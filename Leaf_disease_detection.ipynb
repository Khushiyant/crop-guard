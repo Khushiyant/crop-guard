{
  "cells": [
    {
      "cell_type": "code",
      "execution_count": null,
      "metadata": {
        "colab": {
          "base_uri": "https://localhost:8080/"
        },
        "id": "QFx0lJjgHH05",
        "outputId": "285df7d3-e519-4e33-b98c-e1478bad149a"
      },
      "outputs": [],
      "source": [
        "!git clone https://github.com/gabrieldgf4/PlantVillage-Dataset.git"
      ]
    },
    {
      "cell_type": "code",
      "execution_count": null,
      "metadata": {
        "id": "AAbIeuALjd3q"
      },
      "outputs": [],
      "source": [
        "import matplotlib.pyplot as plt\n",
        "import numpy as np\n",
        "import os\n",
        "import tensorflow as tf\n",
        "import tensorflow.keras.layers as tfl\n",
        "from keras.callbacks import History\n",
        "from keras.callbacks import ModelCheckpoint, TensorBoard\n",
        "\n",
        "from keras.engine import training\n",
        "from keras.layers import Conv2D, MaxPooling2D, GlobalAveragePooling2D, Dropout, Activation, Average\n",
        "from keras.losses import categorical_crossentropy\n",
        "from keras.models import Model, Input\n",
        "\n",
        "\n",
        "from tensorflow.python.framework.ops import Tensor\n",
        "from typing import Tuple, List\n",
        "import glob\n",
        "import numpy as np\n",
        "import os\n",
        "from tensorflow.keras.preprocessing import image_dataset_from_directory\n",
        "from tensorflow.keras.layers.experimental.preprocessing import RandomFlip, RandomRotation"
      ]
    },
    {
      "cell_type": "code",
      "execution_count": null,
      "metadata": {
        "colab": {
          "base_uri": "https://localhost:8080/",
          "height": 394
        },
        "id": "z1dwqJzVjeao",
        "outputId": "9b211d01-8f06-47c6-f7f3-6b9afc01425f"
      },
      "outputs": [],
      "source": [
        "BATCH_SIZE = 32\n",
        "IMG_SIZE = (160, 160)\n",
        "directory = \"/content/PlantVillage-Dataset/Tomato\"\n",
        "train_dataset = image_dataset_from_directory(directory,\n",
        "                                             shuffle=True,\n",
        "                                             batch_size=BATCH_SIZE,\n",
        "                                             image_size=IMG_SIZE,\n",
        "                                             validation_split=0.2,\n",
        "                                             subset='training',\n",
        "                                             seed=42)\n",
        "validation_dataset = image_dataset_from_directory(directory,\n",
        "                                             shuffle=True,\n",
        "                                             batch_size=BATCH_SIZE,\n",
        "                                             image_size=IMG_SIZE,\n",
        "                                             validation_split=0.2,\n",
        "                                             subset='validation',\n",
        "                                             seed=42)"
      ]
    },
    {
      "cell_type": "code",
      "execution_count": null,
      "metadata": {
        "id": "mfDBXb1idHmL"
      },
      "outputs": [],
      "source": [
        "import glob\n",
        "Tomato___Bacterial_spot = glob.glob('/content/PlantVillage-Dataset/Tomato___Bacterial_spot/*.*')\n",
        "Tomato___Early_blight = glob.glob('/content/PlantVillage-Dataset/Tomato___Early_blight/*.*')\n",
        "Tomato___Late_blight = glob.glob('/content/PlantVillage-Dataset/Tomato___Late_blight/*.*')\n",
        "Tomato___Leaf_Mold = glob.glob('/content/PlantVillage-Dataset/Tomato___Leaf_Mold/*.*')\n",
        "Tomato___Septoria_leaf_spot = glob.glob('/content/PlantVillage-Dataset/Tomato___Septoria_leaf_spot/*.*')\n",
        "Tomato___Spider_mites = glob.glob('/content/PlantVillage-Dataset/Tomato___Spider_mites Two-spotted_spider_mite/*.*')\n",
        "Tomato___Target_Spot = glob.glob('/content/PlantVillage-Dataset/Tomato___Target_Spot/*.*')\n",
        "Tomato___Tomato_Yellow_Leaf_Curl_Virus = glob.glob('/content/PlantVillage-Dataset/Tomato___Tomato_Yellow_Leaf_Curl_Virus/*.*')\n",
        "Tomato___Tomato_mosaic_virus = glob.glob('/content/PlantVillage-Dataset/Tomato/Tomato___Tomato_mosaic_virus/*.*')\n",
        "Tomato___healthy = glob.glob('/content/PlantVillage-Dataset/Tomato___healthy/*.*')\n",
        "\n",
        "data = []\n",
        "labels = []\n",
        "\n",
        "for i in Tomato___Bacterial_spot:   \n",
        "    image=tf.keras.preprocessing.image.load_img(i, color_mode='rgb', \n",
        "    target_size= (160,160))\n",
        "    image=np.array(image)\n",
        "    data.append(image)\n",
        "    labels.append(0)\n",
        "for i in Tomato___Early_blight:   \n",
        "    image=tf.keras.preprocessing.image.load_img(i, color_mode='rgb', \n",
        "    target_size= (160,160))\n",
        "    image=np.array(image)\n",
        "    data.append(image)\n",
        "    labels.append(1)\n",
        "for i in Tomato___Late_blight:   \n",
        "    image=tf.keras.preprocessing.image.load_img(i, color_mode='rgb', \n",
        "    target_size= (160,160))\n",
        "    image=np.array(image)\n",
        "    data.append(image)\n",
        "    labels.append(2)\n",
        "for i in Tomato___Leaf_Mold:   \n",
        "    image=tf.keras.preprocessing.image.load_img(i, color_mode='rgb', \n",
        "    target_size= (160,160))\n",
        "    image=np.array(image)\n",
        "    data.append(image)\n",
        "    labels.append(3)\n",
        "for i in Tomato___Septoria_leaf_spot:   \n",
        "    image=tf.keras.preprocessing.image.load_img(i, color_mode='rgb', \n",
        "    target_size= (160,160))\n",
        "    image=np.array(image)\n",
        "    data.append(image)\n",
        "    labels.append(4)\n",
        "\n",
        "for i in Tomato___Spider_mites:   \n",
        "    image=tf.keras.preprocessing.image.load_img(i, color_mode='rgb', \n",
        "    target_size= (160,160))\n",
        "    image=np.array(image)\n",
        "    data.append(image)\n",
        "    labels.append(5)\n",
        "for i in Tomato___Target_Spot:   \n",
        "    image=tf.keras.preprocessing.image.load_img(i, color_mode='rgb', \n",
        "    target_size= (160,160))\n",
        "    image=np.array(image)\n",
        "    data.append(image)\n",
        "    labels.append(6)\n",
        "for i in Tomato___Tomato_Yellow_Leaf_Curl_Virus:   \n",
        "    image=tf.keras.preprocessing.image.load_img(i, color_mode='rgb', \n",
        "    target_size= (160,160))\n",
        "    image=np.array(image)\n",
        "    data.append(image)\n",
        "    labels.append(7)\n",
        "for i in Tomato___Tomato_mosaic_virus:   \n",
        "    image=tf.keras.preprocessing.image.load_img(i, color_mode='rgb', \n",
        "    target_size= (160,160))\n",
        "    image=np.array(image)\n",
        "    data.append(image)\n",
        "    labels.append(8)\n",
        "for i in Tomato___healthy:   \n",
        "    image=tf.keras.preprocessing.image.load_img(i, color_mode='rgb', \n",
        "    target_size= (160,160))\n",
        "    image=np.array(image)\n",
        "    data.append(image)\n",
        "    labels.append(9)                \n",
        "\n",
        "data = np.array(data)\n",
        "labels = np.array(labels)\n",
        "\n",
        "from sklearn.model_selection import train_test_split\n",
        "X_train, X_test, ytrain, ytest = train_test_split(data, labels, test_size=0.2,\n",
        "                                                random_state=42)"
      ]
    },
    {
      "cell_type": "code",
      "execution_count": null,
      "metadata": {
        "colab": {
          "base_uri": "https://localhost:8080/",
          "height": 243
        },
        "id": "2zuydkMPj2MH",
        "outputId": "7b758663-3dcf-4511-b6f9-6ffefb19d420"
      },
      "outputs": [],
      "source": [
        "class_names = train_dataset.class_names\n",
        "\n",
        "plt.figure(figsize=(10, 10))\n",
        "for images, labels in train_dataset.take(1):\n",
        "    for i in range(9):\n",
        "        ax = plt.subplot(3, 3, i + 1)\n",
        "        plt.imshow(images[i].numpy().astype(\"uint8\"))\n",
        "        plt.title(class_names[labels[i]])\n",
        "        plt.axis(\"off\")"
      ]
    },
    {
      "cell_type": "code",
      "execution_count": null,
      "metadata": {
        "colab": {
          "base_uri": "https://localhost:8080/",
          "height": 189
        },
        "id": "8sCduL4bj75i",
        "outputId": "2438503f-e2a1-4734-95b4-a8ede270cd90"
      },
      "outputs": [],
      "source": [
        "AUTOTUNE = tf.data.experimental.AUTOTUNE\n",
        "train_dataset = train_dataset.prefetch(buffer_size=AUTOTUNE)"
      ]
    },
    {
      "cell_type": "code",
      "execution_count": null,
      "metadata": {
        "id": "NxnjEmYhkHwP"
      },
      "outputs": [],
      "source": [
        "\n",
        "def data_augmenter():\n",
        "\n",
        "    data_augmentation = tf.keras.Sequential()\n",
        "    data_augmentation.add(RandomFlip('horizontal'))\n",
        "    data_augmentation.add(RandomRotation(0.2))\n",
        "  \n",
        "    \n",
        "    return data_augmentation"
      ]
    },
    {
      "cell_type": "code",
      "execution_count": null,
      "metadata": {
        "colab": {
          "base_uri": "https://localhost:8080/"
        },
        "id": "qf4N7OPbm62L",
        "outputId": "9cdefd45-8b44-4538-9bfc-d11a1f3b78fa"
      },
      "outputs": [],
      "source": [
        "BATCH_SIZE = 32\n",
        "IMG_SIZE = (160, 160)\n",
        "IMG_SHAPE = IMG_SIZE + (3,)\n",
        "input_shape = (160,160,3)\n",
        "print(input_shape)\n",
        "model_input = Input(shape=input_shape)\n",
        "print(model_input)"
      ]
    },
    {
      "cell_type": "code",
      "execution_count": null,
      "metadata": {
        "id": "wCur_nqjkX9H"
      },
      "outputs": [],
      "source": [
        "def apple_model(model_input: Tensor, data_augmentation=data_augmenter()):\n",
        "\n",
        "    \n",
        "    \n",
        "    \n",
        "    base_model = tf.keras.applications.resnet50.ResNet50(input_shape=input_shape,\n",
        "                                                   include_top=False, \n",
        "                                                   weights='imagenet',input_tensor=model_input) \n",
        "    \n",
        "\n",
        "    base_model.trainable = False\n",
        "\n",
        "   \n",
        "    # inputs = tf.keras.Input(shape=input_shape) \n",
        "    \n",
        "   \n",
        "    data_augmentation = data_augmenter()\n",
        "    x = data_augmentation(model_input)\n",
        "   \n",
        "    x = tf.keras.applications.resnet50.preprocess_input(x) \n",
        "    \n",
        "   \n",
        "    x = base_model(x, training=False) \n",
        "    \n",
        "   \n",
        "   \n",
        "    x = tf.keras.layers.GlobalAveragePooling2D()(x) \n",
        "   \n",
        "    x = tf.keras.layers.Dropout(0.2)(x)\n",
        "        \n",
        "   \n",
        "    x = tf.keras.layers.Dense(10)(x)\n",
        "    \n",
        "  \n",
        "    \n",
        "    model = Model(model_input, x, name='model')\n",
        "    \n",
        "    return model"
      ]
    },
    {
      "cell_type": "code",
      "execution_count": null,
      "metadata": {
        "colab": {
          "base_uri": "https://localhost:8080/"
        },
        "id": "d4av_3uoljjw",
        "outputId": "2ba5d852-b7f3-4192-80d0-c2eeb28b8e2d"
      },
      "outputs": [],
      "source": [
        "model = apple_model(model_input, data_augmenter())"
      ]
    },
    {
      "cell_type": "code",
      "execution_count": null,
      "metadata": {
        "id": "QlVGyopHll1m"
      },
      "outputs": [],
      "source": [
        "\n",
        "model.compile(optimizer='adam',loss = tf.keras.losses.SparseCategoricalCrossentropy(from_logits=True), metrics=['accuracy'])"
      ]
    },
    {
      "cell_type": "code",
      "execution_count": null,
      "metadata": {
        "colab": {
          "base_uri": "https://localhost:8080/"
        },
        "id": "yHHZj9nSndBF",
        "outputId": "bdf2222c-8971-4306-ec66-0fa73517a56c"
      },
      "outputs": [],
      "source": [
        "initial_epochs = 5\n",
        "history = model.fit(X_train, ytrain, validation_split=0.33,epochs=initial_epochs)"
      ]
    },
    {
      "cell_type": "code",
      "execution_count": null,
      "metadata": {
        "colab": {
          "base_uri": "https://localhost:8080/"
        },
        "id": "rZlO5n8BBscP",
        "outputId": "39cbd46b-43d5-415f-81ec-a399907fcd96"
      },
      "outputs": [],
      "source": [
        "history.history.keys()"
      ]
    },
    {
      "cell_type": "code",
      "execution_count": null,
      "metadata": {
        "colab": {
          "base_uri": "https://localhost:8080/",
          "height": 513
        },
        "id": "DpBADhysnhME",
        "outputId": "af4b4fb8-d852-45a7-b924-75f7bcabbe14"
      },
      "outputs": [],
      "source": [
        "acc = [0.] + history.history['accuracy']\n",
        "val_acc = [0.] + history.history['val_accuracy']\n",
        "\n",
        "loss = history.history['loss']\n",
        "val_loss = history.history['val_loss']\n",
        "\n",
        "plt.figure(figsize=(8, 8))\n",
        "plt.subplot(2, 1, 1)\n",
        "plt.plot(acc, label='Training Accuracy')\n",
        "plt.plot(val_acc, label='Validation Accuracy')\n",
        "plt.legend(loc='lower right')\n",
        "plt.ylabel('Accuracy')\n",
        "plt.ylim([min(plt.ylim()),1])\n",
        "plt.title('Training and Validation Accuracy')\n",
        "\n",
        "plt.subplot(2, 1, 2)\n",
        "plt.plot(loss, label='Training Loss')\n",
        "plt.plot(val_loss, label='Validation Loss')\n",
        "plt.legend(loc='upper right')\n",
        "plt.ylabel('Cross Entropy')\n",
        "plt.ylim([0,1.0])\n",
        "plt.title('Training and Validation Loss')\n",
        "plt.xlabel('epoch')\n",
        "plt.show()"
      ]
    },
    {
      "cell_type": "code",
      "execution_count": null,
      "metadata": {
        "id": "3NqeRdr90NTW"
      },
      "outputs": [],
      "source": [
        "def apple_model2(model_input: Tensor, data_augmentation=data_augmenter()):\n",
        "\n",
        "    \n",
        "    \n",
        "\n",
        "    \n",
        "\n",
        "    \n",
        "    base_model = tf.keras.applications.vgg19.VGG19(input_shape=input_shape,\n",
        "                                                   include_top=False, \n",
        "                                                   weights='imagenet',input_tensor=model_input) \n",
        "    \n",
        "\n",
        "    base_model.trainable = False\n",
        "\n",
        "   \n",
        "    # inputs = tf.keras.Input(shape=input_shape) \n",
        "    \n",
        "   \n",
        "    data_augmentation = data_augmenter()\n",
        "    x = data_augmentation(model_input)\n",
        "   \n",
        "    x = tf.keras.applications.vgg19.preprocess_input(x) \n",
        "    \n",
        "   \n",
        "    x = base_model(x, training=False) \n",
        "    \n",
        "   \n",
        "   \n",
        "    x = tf.keras.layers.GlobalAveragePooling2D()(x) \n",
        "   \n",
        "    x = tf.keras.layers.Dropout(0.2)(x)\n",
        "        \n",
        "   \n",
        "    x = tf.keras.layers.Dense(10)(x)\n",
        "    \n",
        "  \n",
        "    model = Model(model_input, x, name='model2')\n",
        "    \n",
        "    \n",
        "    \n",
        "    return model"
      ]
    },
    {
      "cell_type": "code",
      "execution_count": null,
      "metadata": {
        "colab": {
          "base_uri": "https://localhost:8080/"
        },
        "id": "c3ozhG96aBw_",
        "outputId": "2773dc0d-0cc3-4d0b-90a2-4984a202b7f7"
      },
      "outputs": [],
      "source": [
        "model2 = apple_model2(model_input, data_augmenter())"
      ]
    },
    {
      "cell_type": "code",
      "execution_count": null,
      "metadata": {
        "id": "HtuZ15w5a82q"
      },
      "outputs": [],
      "source": [
        "\n",
        "model2.compile(optimizer='adam',loss = tf.keras.losses.SparseCategoricalCrossentropy(from_logits=True), metrics=['accuracy'])"
      ]
    },
    {
      "cell_type": "code",
      "execution_count": null,
      "metadata": {
        "colab": {
          "base_uri": "https://localhost:8080/"
        },
        "id": "yl9btah7bAzS",
        "outputId": "7e1e242b-cad7-4de6-eaa5-bfb86a2b2cd3"
      },
      "outputs": [],
      "source": [
        "initial_epochs = 5\n",
        "history1 = model2.fit(X_train,ytrain, validation_split=0.33 ,epochs=initial_epochs)"
      ]
    },
    {
      "cell_type": "code",
      "execution_count": null,
      "metadata": {
        "colab": {
          "base_uri": "https://localhost:8080/",
          "height": 513
        },
        "id": "b1lvluFEmY2e",
        "outputId": "da1611e0-9d2c-46ab-dad7-a7934a3dd063"
      },
      "outputs": [],
      "source": [
        "acc = [0.] + history1.history['accuracy']\n",
        "val_acc = [0.] + history1.history['val_accuracy']\n",
        "\n",
        "loss = history1.history['loss']\n",
        "val_loss = history1.history['val_loss']\n",
        "\n",
        "plt.figure(figsize=(8, 8))\n",
        "plt.subplot(2, 1, 1)\n",
        "plt.plot(acc, label='Training Accuracy')\n",
        "plt.plot(val_acc, label='Validation Accuracy')\n",
        "plt.legend(loc='lower right')\n",
        "plt.ylabel('Accuracy')\n",
        "plt.ylim([min(plt.ylim()),1])\n",
        "plt.title('Training and Validation Accuracy')\n",
        "\n",
        "plt.subplot(2, 1, 2)\n",
        "plt.plot(loss, label='Training Loss')\n",
        "plt.plot(val_loss, label='Validation Loss')\n",
        "plt.legend(loc='upper right')\n",
        "plt.ylabel('Cross Entropy')\n",
        "plt.ylim([0,1.0])\n",
        "plt.title('Training and Validation Loss')\n",
        "plt.xlabel('epoch')\n",
        "plt.show()"
      ]
    },
    {
      "cell_type": "code",
      "execution_count": null,
      "metadata": {
        "id": "4bdc-4jvaqs9"
      },
      "outputs": [],
      "source": []
    },
    {
      "cell_type": "code",
      "execution_count": null,
      "metadata": {
        "id": "8fNLzoxaaAt2"
      },
      "outputs": [],
      "source": [
        "models = [model,model2]"
      ]
    },
    {
      "cell_type": "code",
      "execution_count": null,
      "metadata": {
        "id": "y5nqN3EfaUg3"
      },
      "outputs": [],
      "source": [
        "def ensemble(models: List [training.Model], model_input: Tensor) :\n",
        "    \n",
        "    outputs = [model.outputs[0] for model in models]\n",
        "    y = Average()(outputs)\n",
        "    \n",
        "    model = Model(model_input, y, name='ensemble')\n",
        "    \n",
        "    return model"
      ]
    },
    {
      "cell_type": "code",
      "execution_count": null,
      "metadata": {
        "colab": {
          "base_uri": "https://localhost:8080/"
        },
        "id": "wwwRZde6dBrr",
        "outputId": "e68352d3-38b0-480c-d45a-5dff5d858e8b"
      },
      "outputs": [],
      "source": [
        "print((model.predict(X_test)[1]))"
      ]
    },
    {
      "cell_type": "code",
      "execution_count": null,
      "metadata": {
        "id": "5G32WGR_a4DG"
      },
      "outputs": [],
      "source": [
        "def evaluate_error(model: training.Model) -> np.float64:\n",
        "    pred = model.predict(X_test, batch_size = 32)\n",
        "    pred = np.argmax(pred, axis=1)\n",
        "    pred = np.expand_dims(pred, axis=1) # make same shape as y_test\n",
        "    error = np.sum(np.not_equal(pred, ytest)) / ytest.shape[0]   \n",
        " \n",
        "    return error"
      ]
    },
    {
      "cell_type": "code",
      "execution_count": null,
      "metadata": {
        "colab": {
          "base_uri": "https://localhost:8080/",
          "height": 358
        },
        "id": "1FtHhM6TcMKo",
        "outputId": "06610231-b7ac-420a-f42e-a03fd8326e29"
      },
      "outputs": [],
      "source": [
        "ensemble_model = ensemble(models,model_input )"
      ]
    },
    {
      "cell_type": "code",
      "execution_count": null,
      "metadata": {
        "colab": {
          "base_uri": "https://localhost:8080/"
        },
        "id": "FKI8PhUGbgUW",
        "outputId": "a29530e7-cbf3-47ef-9a7a-9ddee8eb1074"
      },
      "outputs": [],
      "source": [
        "evaluate_error(model)"
      ]
    },
    {
      "cell_type": "code",
      "execution_count": null,
      "metadata": {
        "id": "DnFIzPFteP1B"
      },
      "outputs": [],
      "source": [
        "from collections import Counter\n",
        "import cv2\n",
        "from tensorflow.keras.preprocessing.image import ImageDataGenerator"
      ]
    },
    {
      "cell_type": "code",
      "execution_count": null,
      "metadata": {
        "id": "k_BJUBAvlumB"
      },
      "outputs": [],
      "source": [
        "seg_test_folders = '/content/PlantVillage-Dataset/Tomato'"
      ]
    },
    {
      "cell_type": "code",
      "execution_count": null,
      "metadata": {
        "colab": {
          "base_uri": "https://localhost:8080/"
        },
        "id": "IdGZeEXh91a0",
        "outputId": "b6038cbb-799d-4a0c-cba4-571b5e42ee51"
      },
      "outputs": [],
      "source": [
        "train_datagen = ImageDataGenerator( rescale = 1.0/255.,shear_range=0.2,zoom_range=0.2,validation_split=0.5)\n",
        "\n",
        "validation_datagen = ImageDataGenerator(rescale = 1.0/255.,validation_split=0.5)\n",
        "validation_generator = validation_datagen.flow_from_directory(seg_test_folders, shuffle=True, batch_size=32, class_mode='categorical', target_size=(160, 160))"
      ]
    },
    {
      "cell_type": "code",
      "execution_count": null,
      "metadata": {
        "id": "TMnNpV30lTYU"
      },
      "outputs": [],
      "source": [
        "# train_datagen = ImageDataGenerator( rescale = 1.0/255.,shear_range=0.2,zoom_range=0.2)\n",
        "# ​train_generator = train_datagen.flow_from_directory(seg_train_folders,\n",
        "#                                                     batch_size=32,\n",
        "#                                                     shuffle=True,\n",
        "#                                                     class_mode='categorical',\n",
        "#                                                     target_size=(150, 150))\n",
        "# ​\n",
        "# validation_datagen = ImageDataGenerator(rescale = 1.0/255.) #we are only normalising to make the prediction, the other parameters were used for agumentation and train weights\n",
        "# validation_generator = validation_datagen.flow_from_directory(seg_test_folders, shuffle=True, batch_size=1, class_mode='categorical', target_size=(150, 150))"
      ]
    },
    {
      "cell_type": "code",
      "execution_count": null,
      "metadata": {
        "id": "q7J2m9lXeIj3"
      },
      "outputs": [],
      "source": [
        "\n"
      ]
    },
    {
      "cell_type": "code",
      "execution_count": null,
      "metadata": {
        "id": "HsP7SPDKBQtE"
      },
      "outputs": [],
      "source": [
        "from sklearn.metrics import confusion_matrix\n",
        "import itertools\n",
        "from sklearn.metrics import classification_report\n",
        "#from mlxtend.plotting import plot_confusion_matrix\n",
        "def clf_report(true_value, model_pred):\n",
        "    \n",
        "    classes = validation_generator.class_indices.keys()\n",
        "    TP_count = [true_value[i] == model_pred[i] for i in range(len(true_value))]\n",
        "    model_accuracy = np.sum(TP_count)/len(TP_count)\n",
        "    print('Model Accuracy', model_accuracy)\n",
        "    \n",
        "    plt.figure(figsize=(7,7))\n",
        "    cm = confusion_matrix(true_value,model_pred)\n",
        "    plt.imshow(cm,interpolation='nearest',cmap=plt.cm.viridis)\n",
        "    plt.title('Confusion Matrix')\n",
        "    plt.colorbar()\n",
        "    tick_marks = np.arange(len(classes))\n",
        "    plt.xticks(tick_marks, classes, rotation=45)\n",
        "    plt.yticks(tick_marks, classes)\n",
        "    thresh = cm.max()*0.8\n",
        "    for i,j in itertools.product(range(cm.shape[0]),range(cm.shape[1])):\n",
        "        plt.text(j,i,cm[i,j],\n",
        "                horizontalalignment=\"center\",\n",
        "                color=\"black\" if cm[i,j] > thresh else \"white\")\n",
        "        pass\n",
        "    \n",
        "    plt.ylabel('True Label')\n",
        "    plt.xlabel('Predicted Label')\n",
        "    pass\n",
        "    \n",
        "    print(classification_report(true_value, model_pred, target_names = list(classes)))\n",
        "    "
      ]
    },
    {
      "cell_type": "code",
      "execution_count": null,
      "metadata": {
        "colab": {
          "base_uri": "https://localhost:8080/",
          "height": 225
        },
        "id": "3_rpdoNGVajk",
        "outputId": "8253daa3-cc9e-42e3-de8a-95dd91e36539"
      },
      "outputs": [],
      "source": [
        "combined_model_pred = [ c[0] for c in combined_model_pred]\n"
      ]
    },
    {
      "cell_type": "code",
      "execution_count": null,
      "metadata": {
        "colab": {
          "base_uri": "https://localhost:8080/"
        },
        "id": "eigjlFGnBUcA",
        "outputId": "549bebb5-25a2-4e8e-de5e-f46fa769c34b"
      },
      "outputs": [],
      "source": [
        "\n",
        "combined_model_pred.count(2)"
      ]
    },
    {
      "cell_type": "code",
      "execution_count": null,
      "metadata": {
        "id": "qxb6rhFcbEUj"
      },
      "outputs": [],
      "source": [
        "def apple_model3(image_shape=IMG_SIZE, data_augmentation=data_augmenter()):\n",
        "\n",
        "    \n",
        "    \n",
        "    input_shape = image_shape + (3,)\n",
        "    \n",
        "\n",
        "    \n",
        "    base_model = tf.keras.applications.inception_resnet_v2.InceptionResNetV2(input_shape=input_shape,\n",
        "                                                   include_top=False, \n",
        "                                                   weights='imagenet') \n",
        "    \n",
        "\n",
        "    base_model.trainable = False\n",
        "\n",
        "   \n",
        "    inputs = tf.keras.Input(shape=input_shape) \n",
        "    \n",
        "   \n",
        "    data_augmentation = data_augmenter()\n",
        "    x = data_augmentation(inputs)\n",
        "   \n",
        "    x = tf.keras.applications.inception_resnet_v2.preprocess_input(x) \n",
        "    \n",
        "   \n",
        "    x = base_model(x, training=False) \n",
        "    \n",
        "   \n",
        "   \n",
        "    x = tf.keras.layers.GlobalAveragePooling2D()(x) \n",
        "   \n",
        "    x = tf.keras.layers.Dropout(0.2)(x)\n",
        "        \n",
        "   \n",
        "    outputs = tf.keras.layers.Dense(10)(x)\n",
        "    \n",
        "  \n",
        "    \n",
        "    model = tf.keras.Model(inputs, outputs)\n",
        "    \n",
        "    return model"
      ]
    },
    {
      "cell_type": "code",
      "execution_count": null,
      "metadata": {
        "id": "76QuEqm0fALR"
      },
      "outputs": [],
      "source": [
        "model3 = apple_model3(IMG_SIZE, data_augmenter())"
      ]
    },
    {
      "cell_type": "code",
      "execution_count": null,
      "metadata": {
        "id": "NQyDl3tsfELV"
      },
      "outputs": [],
      "source": [
        "\n",
        "model3.compile(optimizer='adam',loss = tf.keras.losses.SparseCategoricalCrossentropy(from_logits=True), metrics=['accuracy'])"
      ]
    },
    {
      "cell_type": "code",
      "execution_count": null,
      "metadata": {
        "colab": {
          "base_uri": "https://localhost:8080/"
        },
        "id": "jtZufmjQfHuP",
        "outputId": "7a4aa33d-ac16-4f90-b86a-0dee6fac116f"
      },
      "outputs": [],
      "source": [
        "initial_epochs = 10\n",
        "history = model3.fit(train_dataset, validation_data=validation_dataset, epochs=initial_epochs)"
      ]
    },
    {
      "cell_type": "code",
      "execution_count": null,
      "metadata": {
        "colab": {
          "base_uri": "https://localhost:8080/",
          "height": 513
        },
        "id": "cqtPH3bMfLnP",
        "outputId": "6fff3af1-1cd8-4439-d7fc-561d879b575f"
      },
      "outputs": [],
      "source": [
        "acc = [0.] + history.history['accuracy']\n",
        "val_acc = [0.] + history.history['val_accuracy']\n",
        "\n",
        "loss = history.history['loss']\n",
        "val_loss = history.history['val_loss']\n",
        "\n",
        "plt.figure(figsize=(8, 8))\n",
        "plt.subplot(2, 1, 1)\n",
        "plt.plot(acc, label='Training Accuracy')\n",
        "plt.plot(val_acc, label='Validation Accuracy')\n",
        "plt.legend(loc='lower right')\n",
        "plt.ylabel('Accuracy')\n",
        "plt.ylim([min(plt.ylim()),1])\n",
        "plt.title('Training and Validation Accuracy')\n",
        "\n",
        "plt.subplot(2, 1, 2)\n",
        "plt.plot(loss, label='Training Loss')\n",
        "plt.plot(val_loss, label='Validation Loss')\n",
        "plt.legend(loc='upper right')\n",
        "plt.ylabel('Cross Entropy')\n",
        "plt.ylim([0,1.0])\n",
        "plt.title('Training and Validation Loss')\n",
        "plt.xlabel('epoch')\n",
        "plt.show()"
      ]
    },
    {
      "cell_type": "code",
      "execution_count": null,
      "metadata": {
        "id": "6dfU4OzbfNf1"
      },
      "outputs": [],
      "source": []
    }
  ],
  "metadata": {
    "accelerator": "GPU",
    "colab": {
      "collapsed_sections": [],
      "provenance": []
    },
    "gpuClass": "standard",
    "kernelspec": {
      "display_name": "Python 3.9.13 64-bit",
      "language": "python",
      "name": "python3"
    },
    "language_info": {
      "name": "python",
      "version": "3.9.13"
    },
    "vscode": {
      "interpreter": {
        "hash": "b0fa6594d8f4cbf19f97940f81e996739fb7646882a419484c72d19e05852a7e"
      }
    }
  },
  "nbformat": 4,
  "nbformat_minor": 0
}
