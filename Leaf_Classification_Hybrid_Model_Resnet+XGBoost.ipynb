{
  "cells": [
    {
      "cell_type": "code",
<<<<<<< HEAD
      "source": [
        "!git clone https://github.com/Khushiyant/crop-guard.git"
      ],
      "metadata": {
        "id": "3or0ErNtC9Dl",
        "colab": {
          "base_uri": "https://localhost:8080/"
        },
        "outputId": "80b03e25-8bfe-452f-cd82-153c7a7758f7"
      },
      "execution_count": 1,
      "outputs": [
        {
          "output_type": "stream",
          "name": "stdout",
=======
      "execution_count": null,
      "metadata": {
        "colab": {
          "base_uri": "https://localhost:8080/"
        },
        "id": "3or0ErNtC9Dl",
        "outputId": "46fa63e3-ac0e-4f21-ece1-b77883adcb60"
      },
      "outputs": [
        {
          "name": "stdout",
          "output_type": "stream",
>>>>>>> leaf_disease
          "text": [
            "Cloning into 'crop-guard'...\n",
            "fatal: could not read Username for 'https://github.com': No such device or address\n"
          ]
        }
<<<<<<< HEAD
      ]
    },
    {
      "cell_type": "code",
      "source": [
        "!git clone https://github.com/gabrieldgf4/PlantVillage-Dataset.git"
      ],
      "metadata": {
        "colab": {
          "base_uri": "https://localhost:8080/"
        },
        "id": "LITNxxGobsj7",
        "outputId": "f5e75591-a4bc-47f8-adc7-1ddecac79546"
      },
      "execution_count": 2,
      "outputs": [
        {
          "output_type": "stream",
          "name": "stdout",
          "text": [
            "Cloning into 'PlantVillage-Dataset'...\n",
            "remote: Enumerating objects: 54511, done.\u001b[K\n",
            "remote: Counting objects: 100% (108/108), done.\u001b[K\n",
            "remote: Compressing objects: 100% (108/108), done.\u001b[K\n",
            "remote: Total 54511 (delta 36), reused 0 (delta 0), pack-reused 54403\u001b[K\n",
            "Receiving objects: 100% (54511/54511), 806.27 MiB | 37.61 MiB/s, done.\n",
            "Resolving deltas: 100% (50/50), done.\n",
            "Checking out files: 100% (54306/54306), done.\n"
          ]
        }
=======
      ],
      "source": [
        "!git clone https://github.com/Khushiyant/crop-guard.git"
>>>>>>> leaf_disease
      ]
    },
    {
      "cell_type": "code",
      "execution_count": null,
      "metadata": {
        "colab": {
          "base_uri": "https://localhost:8080/"
        },
<<<<<<< HEAD
        "id": "mKjIX27Oy9Od",
        "outputId": "a1c6cf4e-65e9-45d9-91cd-b194cfd620e1"
      },
      "outputs": [
        {
          "output_type": "stream",
          "name": "stdout",
          "text": [
            "Cloning into 'Bark_Classification'...\n",
            "remote: Enumerating objects: 5654, done.\u001b[K\n",
            "remote: Counting objects: 100% (33/33), done.\u001b[K\n",
            "remote: Compressing objects: 100% (28/28), done.\u001b[K\n",
            "remote: Total 5654 (delta 15), reused 15 (delta 4), pack-reused 5621\u001b[K\n",
            "Receiving objects: 100% (5654/5654), 259.04 MiB | 36.43 MiB/s, done.\n",
            "Resolving deltas: 100% (15/15), done.\n",
            "Checking out files: 100% (5581/5581), done.\n"
=======
        "id": "LITNxxGobsj7",
        "outputId": "b2760717-7919-44b8-f2c8-45f4ca3e03c7"
      },
      "outputs": [
        {
          "name": "stdout",
          "output_type": "stream",
          "text": [
            "fatal: destination path 'PlantVillage-Dataset' already exists and is not an empty directory.\n"
>>>>>>> leaf_disease
          ]
        }
      ],
      "source": [
<<<<<<< HEAD
        "!git clone https://github.com/Kranium2002/Bark_Classification.git"
=======
        "!git clone https://github.com/gabrieldgf4/PlantVillage-Dataset.git"
>>>>>>> leaf_disease
      ]
    },
    {
      "cell_type": "code",
<<<<<<< HEAD
      "execution_count": 1,
=======
      "execution_count": null,
>>>>>>> leaf_disease
      "metadata": {
        "id": "1tqgXRDTqNN7"
      },
      "outputs": [],
      "source": [
        "import matplotlib.pyplot as plt\n",
        "import numpy as np\n",
        "from sklearn.model_selection import RandomizedSearchCV, GridSearchCV\n",
        "from sklearn.model_selection import StratifiedKFold\n",
        "import os\n",
        "import tensorflow as tf\n",
        "import tensorflow.keras.layers as tfl\n",
        "from keras.callbacks import History\n",
        "from keras.callbacks import ModelCheckpoint, TensorBoard\n",
        "\n",
        "from keras.engine import training\n",
        "from keras.layers import Conv2D, MaxPooling2D, GlobalAveragePooling2D, Dropout, Activation, Average\n",
        "from keras.losses import categorical_crossentropy\n",
        "from keras.models import Model, Input\n",
        "from sklearn import preprocessing\n",
        "from sklearn.model_selection import train_test_split\n",
        "\n",
        "from tensorflow.python.framework.ops import Tensor\n",
        "from typing import Tuple, List\n",
        "import glob\n",
        "import numpy as np\n",
        "import os\n",
        "from tensorflow.keras.preprocessing.image import ImageDataGenerator \n",
        "from tensorflow.keras.preprocessing import image_dataset_from_directory\n",
        "from tensorflow.keras.layers.experimental.preprocessing import RandomFlip, RandomRotation\n",
        "from tqdm import tqdm\n",
        "import cv2 as cv2\n",
        "from keras.preprocessing.image import img_to_array"
      ]
    },
    {
      "cell_type": "code",
<<<<<<< HEAD
      "source": [
        "directory_root = '/content/PlantVillage-Dataset'"
      ],
      "metadata": {
        "id": "5Bkc6jwgb_gt"
      },
      "execution_count": 2,
      "outputs": []
    },
    {
      "cell_type": "markdown",
      "source": [
        "Data for Resnet Training"
      ],
      "metadata": {
        "id": "0eeVn1jIFVls"
      }
    },
    {
      "cell_type": "code",
=======
      "execution_count": null,
      "metadata": {
        "id": "5Bkc6jwgb_gt"
      },
      "outputs": [],
      "source": [
        "directory_root = '/content/PlantVillage-Dataset'"
      ]
    },
    {
      "cell_type": "markdown",
      "metadata": {
        "id": "0eeVn1jIFVls"
      },
      "source": [
        "Data for Resnet Training"
      ]
    },
    {
      "cell_type": "code",
      "execution_count": null,
      "metadata": {
        "colab": {
          "base_uri": "https://localhost:8080/"
        },
        "id": "8SjydZwxdSh6",
        "outputId": "b121468e-952a-4974-9e31-e6490b8327d0"
      },
      "outputs": [
        {
          "name": "stdout",
          "output_type": "stream",
          "text": [
            "Found 54305 files belonging to 40 classes.\n",
            "Using 43444 files for training.\n",
            "Found 54305 files belonging to 40 classes.\n",
            "Using 10861 files for validation.\n"
          ]
        }
      ],
>>>>>>> leaf_disease
      "source": [
        "BATCH_SIZE = 32\n",
        "IMG_SIZE = (256, 256)\n",
        "directory = \"/content/PlantVillage-Dataset/\"\n",
        "train_dataset = tf.keras.utils.image_dataset_from_directory(directory,\n",
        "                                             shuffle=True,\n",
        "                                             batch_size=BATCH_SIZE,\n",
        "                                             image_size=IMG_SIZE,\n",
        "                                             validation_split=0.2,\n",
        "                                             subset='training',\n",
        "                                             seed=42)\n",
        "validation_dataset =tf.keras.utils.image_dataset_from_directory(directory,\n",
        "                                             shuffle=True,\n",
        "                                             batch_size=BATCH_SIZE,\n",
        "                                             image_size=IMG_SIZE,\n",
        "                                             validation_split=0.2,\n",
        "                                             subset='validation',\n",
        "                                             seed=42)"
<<<<<<< HEAD
      ],
      "metadata": {
        "colab": {
          "base_uri": "https://localhost:8080/"
        },
        "id": "8SjydZwxdSh6",
        "outputId": "c5910719-15d2-4e79-af96-cda51f401be2"
      },
      "execution_count": 4,
      "outputs": [
        {
          "output_type": "stream",
          "name": "stdout",
          "text": [
            "Found 54305 files belonging to 40 classes.\n",
            "Using 43444 files for training.\n",
            "Found 54305 files belonging to 40 classes.\n",
            "Using 10861 files for validation.\n"
          ]
        }
=======
>>>>>>> leaf_disease
      ]
    },
    {
      "cell_type": "markdown",
<<<<<<< HEAD
      "source": [
        "Data for XGBoost Training and Testing of models"
      ],
      "metadata": {
        "id": "nnSQKrlFFZMx"
      }
    },
    {
      "cell_type": "code",
=======
      "metadata": {
        "id": "nnSQKrlFFZMx"
      },
      "source": [
        "Data for XGBoost Training and Testing of models"
      ]
    },
    {
      "cell_type": "code",
      "execution_count": null,
      "metadata": {
        "colab": {
          "base_uri": "https://localhost:8080/"
        },
        "id": "-WSLK5GuvPi2",
        "outputId": "bf58c623-3519-458c-9dc6-e08e706cfcf1"
      },
      "outputs": [
        {
          "name": "stdout",
          "output_type": "stream",
          "text": [
            "Found 38031 images belonging to 40 classes.\n",
            "Found 16274 images belonging to 40 classes.\n"
          ]
        }
      ],
>>>>>>> leaf_disease
      "source": [
        "IMG_SIZE = (256, 256)\n",
        "BATCH_SIZE = 64\n",
        "data_generator = tf.keras.preprocessing.image.ImageDataGenerator(\n",
        "    \n",
        "    zoom_range = 0.2, \n",
        "    horizontal_flip = True,\n",
        "    vertical_flip = True,\n",
        "    rotation_range = 180,\n",
        "    validation_split = 0.3) \n",
        "\n",
        "train_generator = data_generator.flow_from_directory(\n",
        "    \n",
        "                                            directory_root,\n",
        "                                            class_mode = 'categorical',\n",
        "                                             shuffle=True,\n",
        "                                             batch_size=64,\n",
        "                                             target_size =IMG_SIZE,\n",
        "                                             \n",
        "                                             subset='training',\n",
        "                                             seed=42)\n",
        "\n",
        "validation_generator = data_generator.flow_from_directory( \n",
        "directory_root,\n",
        "                                            class_mode = 'categorical',\n",
        "                                             shuffle=True,\n",
        "                                             batch_size=64,\n",
        "                                             target_size =IMG_SIZE,\n",
        "                                             \n",
        "                                             subset='validation',\n",
        "                                             seed=42)"
<<<<<<< HEAD
      ],
      "metadata": {
        "colab": {
          "base_uri": "https://localhost:8080/"
        },
        "id": "-WSLK5GuvPi2",
        "outputId": "af803652-b104-4ff2-f8c6-3703762d1665"
      },
      "execution_count": 3,
      "outputs": [
        {
          "output_type": "stream",
          "name": "stdout",
          "text": [
            "Found 38031 images belonging to 40 classes.\n",
            "Found 16274 images belonging to 40 classes.\n"
          ]
        }
=======
>>>>>>> leaf_disease
      ]
    },
    {
      "cell_type": "code",
<<<<<<< HEAD
=======
      "execution_count": null,
      "metadata": {
        "colab": {
          "base_uri": "https://localhost:8080/"
        },
        "id": "jOuDX2dHvIxN",
        "outputId": "957c8dd3-494f-4637-d81a-55d1fd905547"
      },
      "outputs": [
        {
          "name": "stderr",
          "output_type": "stream",
          "text": [
            "100%|██████████| 36/36 [00:41<00:00,  1.17s/it]"
          ]
        },
        {
          "name": "stdout",
          "output_type": "stream",
          "text": [
            "(2368, 256, 256, 3) (2368, 40)\n"
          ]
        },
        {
          "name": "stderr",
          "output_type": "stream",
          "text": [
            "\n"
          ]
        }
      ],
>>>>>>> leaf_disease
      "source": [
        "train_generator.reset()\n",
        "x_train, y_train = next(train_generator)\n",
        "for i in tqdm(range(int(len(train_generator)/16-1))): #1st batch is already fetched before the for loop.\n",
        "  img, label = next(train_generator)\n",
        "  x_train = np.append(x_train, img, axis=0 )\n",
        "  y_train = np.append(y_train, label, axis=0)\n",
        "print(x_train.shape, y_train.shape)"
<<<<<<< HEAD
      ],
      "metadata": {
        "colab": {
          "base_uri": "https://localhost:8080/"
        },
        "id": "jOuDX2dHvIxN",
        "outputId": "472bf000-f810-47c6-c93f-eda9afa279d1"
      },
      "execution_count": 4,
      "outputs": [
        {
          "output_type": "stream",
          "name": "stderr",
          "text": [
            "100%|██████████| 36/36 [00:40<00:00,  1.12s/it]"
          ]
        },
        {
          "output_type": "stream",
          "name": "stdout",
          "text": [
            "(2368, 256, 256, 3) (2368, 40)\n"
          ]
        },
        {
          "output_type": "stream",
          "name": "stderr",
          "text": [
            "\n"
          ]
        }
=======
>>>>>>> leaf_disease
      ]
    },
    {
      "cell_type": "code",
<<<<<<< HEAD
=======
      "execution_count": null,
      "metadata": {
        "colab": {
          "base_uri": "https://localhost:8080/"
        },
        "id": "Dc88yjorxKMh",
        "outputId": "18d59cf2-1b15-4be8-ee7e-f56c85eeff15"
      },
      "outputs": [
        {
          "name": "stderr",
          "output_type": "stream",
          "text": [
            "100%|██████████| 30/30 [00:34<00:00,  1.15s/it]"
          ]
        },
        {
          "name": "stdout",
          "output_type": "stream",
          "text": [
            "(1984, 256, 256, 3) (1984, 40)\n"
          ]
        },
        {
          "name": "stderr",
          "output_type": "stream",
          "text": [
            "\n"
          ]
        }
      ],
>>>>>>> leaf_disease
      "source": [
        "validation_generator.reset()\n",
        "x_test, y_test = next(validation_generator)\n",
        "for i in tqdm(range(int(len(validation_generator)/8)-1)): #1st batch is already fetched before the for loop.\n",
        "  img, label = next(validation_generator)\n",
        "  x_test = np.append(x_test, img, axis=0 )\n",
        "  y_test = np.append(y_test, label, axis=0)\n",
        "print(x_test.shape, y_test.shape)"
<<<<<<< HEAD
      ],
      "metadata": {
        "colab": {
          "base_uri": "https://localhost:8080/"
        },
        "id": "Dc88yjorxKMh",
        "outputId": "8e6a4eff-e6cd-4ae2-dbe0-4768137e9bbd"
      },
      "execution_count": 5,
      "outputs": [
        {
          "output_type": "stream",
          "name": "stderr",
          "text": [
            "100%|██████████| 30/30 [00:33<00:00,  1.12s/it]"
          ]
        },
        {
          "output_type": "stream",
          "name": "stdout",
          "text": [
            "(1984, 256, 256, 3) (1984, 40)\n"
          ]
        },
        {
          "output_type": "stream",
          "name": "stderr",
          "text": [
            "\n"
          ]
        }
=======
>>>>>>> leaf_disease
      ]
    },
    {
      "cell_type": "code",
<<<<<<< HEAD
      "source": [
        "del(train_generator)\n",
        "del(validation_generator)"
      ],
      "metadata": {
        "id": "YVxxWDYrGqxh"
      },
      "execution_count": 7,
      "outputs": []
    },
    {
      "cell_type": "code",
=======
      "execution_count": null,
      "metadata": {
        "id": "YVxxWDYrGqxh"
      },
      "outputs": [],
      "source": [
        "del(train_generator)\n",
        "del(validation_generator)"
      ]
    },
    {
      "cell_type": "code",
      "execution_count": null,
      "metadata": {
        "colab": {
          "base_uri": "https://localhost:8080/"
        },
        "id": "UgXv82rvz3Ho",
        "outputId": "f4e2db43-ec35-4ded-e327-21fe67a0e232"
      },
      "outputs": [
        {
          "data": {
            "text/plain": [
              "(2368,)"
            ]
          },
          "execution_count": 9,
          "metadata": {},
          "output_type": "execute_result"
        }
      ],
>>>>>>> leaf_disease
      "source": [
        "Y_train=[]\n",
        "for i in range(y_train.shape[0]):\n",
        "  temp=y_train[i][0:]\n",
        "  temp = np.argmax(temp)\n",
        "  Y_train.append(temp)\n",
        "\n",
        "Y_train=np.asarray(Y_train)\n",
<<<<<<< HEAD
        "Y_train.shape  \n",
        "\n"
      ],
      "metadata": {
        "colab": {
          "base_uri": "https://localhost:8080/"
        },
        "id": "UgXv82rvz3Ho",
        "outputId": "482543c8-4ce2-448a-ca8e-ecfddb7904b9"
      },
      "execution_count": 8,
      "outputs": [
        {
          "output_type": "execute_result",
          "data": {
            "text/plain": [
              "(2368,)"
            ]
          },
          "metadata": {},
          "execution_count": 8
        }
=======
        "Y_train.shape"
>>>>>>> leaf_disease
      ]
    },
    {
      "cell_type": "code",
<<<<<<< HEAD
=======
      "execution_count": null,
      "metadata": {
        "colab": {
          "base_uri": "https://localhost:8080/"
        },
        "id": "a5FI2_sdBZAG",
        "outputId": "ad42b365-34d6-4cf0-a3aa-b00a202f0454"
      },
      "outputs": [
        {
          "data": {
            "text/plain": [
              "(1984,)"
            ]
          },
          "execution_count": 10,
          "metadata": {},
          "output_type": "execute_result"
        }
      ],
>>>>>>> leaf_disease
      "source": [
        "Y_test=[]\n",
        "for i in range(y_test.shape[0]):\n",
        "  temp=y_test[i][0:]\n",
        "  temp = np.argmax(temp)\n",
        "  Y_test.append(temp)\n",
        "\n",
        "Y_test=np.asarray(Y_test)\n",
<<<<<<< HEAD
        "Y_test.shape  "
      ],
      "metadata": {
        "colab": {
          "base_uri": "https://localhost:8080/"
        },
        "id": "a5FI2_sdBZAG",
        "outputId": "d2738b59-c33c-4619-cf01-853a0a7dad2a"
      },
      "execution_count": 9,
      "outputs": [
        {
          "output_type": "execute_result",
          "data": {
            "text/plain": [
              "(4032,)"
            ]
          },
          "metadata": {},
          "execution_count": 9
        }
=======
        "Y_test.shape"
>>>>>>> leaf_disease
      ]
    },
    {
      "cell_type": "code",
<<<<<<< HEAD
      "source": [
        "del(y_train)\n",
        "del(y_test)"
      ],
      "metadata": {
        "id": "F-JPPh3CW4jc"
      },
      "execution_count": 11,
      "outputs": []
    },
    {
      "cell_type": "code",
      "source": [
        "del(temp)"
      ],
      "metadata": {
        "id": "ucWYPWKxG4fK"
      },
      "execution_count": 10,
      "outputs": []
    },
    {
      "cell_type": "markdown",
      "source": [
        "Basic Data Argumentation to increase the generalization of models"
      ],
      "metadata": {
        "id": "-s76hj1ZuKUz"
      }
=======
      "execution_count": null,
      "metadata": {
        "id": "F-JPPh3CW4jc"
      },
      "outputs": [],
      "source": [
        "# del(y_train)\n",
        "# del(y_test)"
      ]
    },
    {
      "cell_type": "code",
      "execution_count": null,
      "metadata": {
        "id": "ucWYPWKxG4fK"
      },
      "outputs": [],
      "source": [
        "del(temp)"
      ]
    },
    {
      "cell_type": "markdown",
      "metadata": {
        "id": "-s76hj1ZuKUz"
      },
      "source": [
        "Basic Data Argumentation to increase the generalization of models"
      ]
>>>>>>> leaf_disease
    },
    {
      "cell_type": "code",
      "execution_count": null,
      "metadata": {
        "id": "eFki3SI7sCiy"
      },
      "outputs": [],
      "source": [
        "\n",
        "def data_augmenter():\n",
        "\n",
        "    data_augmentation = tf.keras.Sequential()\n",
        "    data_augmentation.add(RandomFlip('horizontal'))\n",
        "    data_augmentation.add(RandomRotation(0.2))\n",
        "    \n",
        "    \n",
        "    return data_augmentation"
      ]
    },
    {
      "cell_type": "markdown",
<<<<<<< HEAD
      "source": [
        "Base Resnet50 Model"
      ],
      "metadata": {
        "id": "oIbBk-SJttbl"
      }
=======
      "metadata": {
        "id": "oIbBk-SJttbl"
      },
      "source": [
        "Base Resnet50 Model"
      ]
>>>>>>> leaf_disease
    },
    {
      "cell_type": "code",
      "execution_count": null,
      "metadata": {
        "id": "PrtNS2m_sFV5"
      },
      "outputs": [],
      "source": [
        "def leaf_model(model_input: Tensor, data_augmentation=data_augmenter()):\n",
        "\n",
        "    \n",
        "    \n",
        "    \n",
        "    base_model = tf.keras.applications.resnet50.ResNet50(input_shape=(256,256,3),\n",
        "                                                   include_top=False, \n",
        "                                                   weights='imagenet',input_tensor=model_input) \n",
        "    \n",
        "\n",
        "    base_model.trainable = False\n",
        "   \n",
        "    data_augmentation = data_augmenter()\n",
        "   \n",
        "    x = data_augmentation(model_input)\n",
        "   \n",
        "    x = tf.keras.applications.resnet50.preprocess_input(x) \n",
        "    \n",
        "   \n",
        "    x = base_model(x, training=False) \n",
        "    \n",
        "   \n",
        "   \n",
        "    x = tf.keras.layers.GlobalAveragePooling2D()(x) \n",
        "   \n",
        "    x = tf.keras.layers.Dropout(0.2)(x)\n",
        "        \n",
        "   \n",
        "    x = tf.keras.layers.Dense(50)(x)\n",
        "    \n",
        "  \n",
        "    \n",
        "    model = Model(model_input, x, name='model')\n",
        "    \n",
        "    return model"
      ]
    },
    {
      "cell_type": "code",
      "execution_count": null,
      "metadata": {
        "colab": {
          "base_uri": "https://localhost:8080/"
        },
        "id": "AwCzQlY2vqEm",
<<<<<<< HEAD
        "outputId": "486ad903-95e4-4e14-fcf0-f07c758c3354"
      },
      "outputs": [
        {
          "output_type": "stream",
          "name": "stdout",
          "text": [
            "(256, 256, 3)\n",
            "KerasTensor(type_spec=TensorSpec(shape=(None, 256, 256, 3), dtype=tf.float32, name='input_2'), name='input_2', description=\"created by layer 'input_2'\")\n"
=======
        "outputId": "4ad7f02f-33d5-4ee9-a32d-295ae738b58e"
      },
      "outputs": [
        {
          "name": "stdout",
          "output_type": "stream",
          "text": [
            "(256, 256, 3)\n",
            "KerasTensor(type_spec=TensorSpec(shape=(None, 256, 256, 3), dtype=tf.float32, name='input_1'), name='input_1', description=\"created by layer 'input_1'\")\n"
>>>>>>> leaf_disease
          ]
        }
      ],
      "source": [
        "input_shape = (256,256,3)\n",
        "print(input_shape)\n",
        "model_input = Input(shape=input_shape)\n",
        "print(model_input)"
      ]
    },
    {
      "cell_type": "code",
      "execution_count": null,
      "metadata": {
<<<<<<< HEAD
        "id": "3Ic08oRjvR9V",
        "colab": {
          "base_uri": "https://localhost:8080/"
        },
        "outputId": "61ad7961-964f-4d41-9854-b473dbca08d1"
      },
      "outputs": [
        {
          "output_type": "stream",
          "name": "stdout",
=======
        "colab": {
          "base_uri": "https://localhost:8080/"
        },
        "id": "3Ic08oRjvR9V",
        "outputId": "5d0a8639-7743-4a71-e212-f512c18bc694"
      },
      "outputs": [
        {
          "name": "stdout",
          "output_type": "stream",
>>>>>>> leaf_disease
          "text": [
            "Downloading data from https://storage.googleapis.com/tensorflow/keras-applications/resnet/resnet50_weights_tf_dim_ordering_tf_kernels_notop.h5\n",
            "94773248/94765736 [==============================] - 1s 0us/step\n",
            "94781440/94765736 [==============================] - 1s 0us/step\n",
<<<<<<< HEAD
            "<keras.engine.input_layer.InputLayer object at 0x7f2cad23d550>\n",
            "<keras.engine.sequential.Sequential object at 0x7f2c1c204cd0>\n",
            "<keras.layers.core.tf_op_layer.SlicingOpLambda object at 0x7f2c1c1f7fd0>\n",
            "<keras.layers.core.tf_op_layer.TFOpLambda object at 0x7f2c1bf8ffd0>\n",
            "<keras.engine.functional.Functional object at 0x7f2cad072b10>\n",
            "<keras.layers.pooling.GlobalAveragePooling2D object at 0x7f2cad657d90>\n",
            "<keras.layers.core.dropout.Dropout object at 0x7f2c1bf8f050>\n",
            "<keras.layers.core.dense.Dense object at 0x7f2cad666550>\n"
=======
            "<keras.engine.input_layer.InputLayer object at 0x7fd5301e64d0>\n",
            "<keras.engine.sequential.Sequential object at 0x7fd539d9cad0>\n",
            "<keras.layers.core.tf_op_layer.SlicingOpLambda object at 0x7fd539d0d810>\n",
            "<keras.layers.core.tf_op_layer.TFOpLambda object at 0x7fd539b72190>\n",
            "<keras.engine.functional.Functional object at 0x7fd539d98210>\n",
            "<keras.layers.pooling.GlobalAveragePooling2D object at 0x7fd539d7f6d0>\n",
            "<keras.layers.core.dropout.Dropout object at 0x7fd539d95cd0>\n",
            "<keras.layers.core.dense.Dense object at 0x7fd539bb0d50>\n"
>>>>>>> leaf_disease
          ]
        }
      ],
      "source": [
        "model = leaf_model(model_input, data_augmenter())\n",
        "\n",
        "for layer in model.layers:\n",
        "  print(layer)"
      ]
    },
    {
      "cell_type": "code",
      "execution_count": null,
      "metadata": {
        "id": "YZlEZf5_vi5q"
      },
      "outputs": [],
      "source": [
        "\n",
        "model.compile(optimizer='adam',loss = tf.keras.losses.SparseCategoricalCrossentropy(from_logits=True), metrics=['accuracy'])"
      ]
    },
    {
      "cell_type": "markdown",
<<<<<<< HEAD
      "source": [
        "Training Resnet with last layer as a Softmax layer"
      ],
      "metadata": {
        "id": "pYI-TIS51lL7"
      }
=======
      "metadata": {
        "id": "pYI-TIS51lL7"
      },
      "source": [
        "Training Resnet with last layer as a Softmax layer"
      ]
>>>>>>> leaf_disease
    },
    {
      "cell_type": "code",
      "execution_count": null,
      "metadata": {
        "colab": {
          "base_uri": "https://localhost:8080/"
        },
        "id": "FvthvOzec-H8",
<<<<<<< HEAD
        "outputId": "b415a62e-79ca-42cb-8afc-a4a3707baa0d"
      },
      "outputs": [
        {
          "output_type": "stream",
          "name": "stdout",
          "text": [
            "Epoch 1/10\n",
            "1358/1358 [==============================] - 254s 176ms/step - loss: 0.3588 - accuracy: 0.9056 - val_loss: 0.1490 - val_accuracy: 0.9538\n",
            "Epoch 2/10\n",
            "1358/1358 [==============================] - 243s 179ms/step - loss: 0.1257 - accuracy: 0.9614 - val_loss: 0.1232 - val_accuracy: 0.9595\n",
            "Epoch 3/10\n",
            "1358/1358 [==============================] - 244s 179ms/step - loss: 0.0985 - accuracy: 0.9689 - val_loss: 0.1357 - val_accuracy: 0.9611\n",
            "Epoch 4/10\n",
            "1358/1358 [==============================] - 243s 179ms/step - loss: 0.0895 - accuracy: 0.9710 - val_loss: 0.0954 - val_accuracy: 0.9688\n",
            "Epoch 5/10\n",
            "1358/1358 [==============================] - 244s 179ms/step - loss: 0.0808 - accuracy: 0.9731 - val_loss: 0.1039 - val_accuracy: 0.9684\n",
            "Epoch 6/10\n",
            "1358/1358 [==============================] - 243s 179ms/step - loss: 0.0749 - accuracy: 0.9754 - val_loss: 0.0955 - val_accuracy: 0.9693\n",
            "Epoch 7/10\n",
            "1358/1358 [==============================] - 243s 179ms/step - loss: 0.0754 - accuracy: 0.9748 - val_loss: 0.0798 - val_accuracy: 0.9743\n",
            "Epoch 8/10\n",
            "1358/1358 [==============================] - 244s 179ms/step - loss: 0.0707 - accuracy: 0.9763 - val_loss: 0.0797 - val_accuracy: 0.9739\n",
            "Epoch 9/10\n",
            "1358/1358 [==============================] - 244s 179ms/step - loss: 0.0686 - accuracy: 0.9776 - val_loss: 0.0834 - val_accuracy: 0.9738\n",
            "Epoch 10/10\n",
            "1358/1358 [==============================] - 243s 179ms/step - loss: 0.0626 - accuracy: 0.9797 - val_loss: 0.1020 - val_accuracy: 0.9681\n"
=======
        "outputId": "622410b2-ae99-4582-ebcd-286c77ba97b4"
      },
      "outputs": [
        {
          "name": "stdout",
          "output_type": "stream",
          "text": [
            "Epoch 1/10\n",
            "1358/1358 [==============================] - 272s 190ms/step - loss: 0.3582 - accuracy: 0.9048 - val_loss: 0.1588 - val_accuracy: 0.9511\n",
            "Epoch 2/10\n",
            "1358/1358 [==============================] - 257s 189ms/step - loss: 0.1251 - accuracy: 0.9621 - val_loss: 0.1075 - val_accuracy: 0.9648\n",
            "Epoch 3/10\n",
            "1358/1358 [==============================] - 256s 189ms/step - loss: 0.1014 - accuracy: 0.9678 - val_loss: 0.1001 - val_accuracy: 0.9672\n",
            "Epoch 4/10\n",
            "1358/1358 [==============================] - 257s 189ms/step - loss: 0.0906 - accuracy: 0.9703 - val_loss: 0.1132 - val_accuracy: 0.9610\n",
            "Epoch 5/10\n",
            "1358/1358 [==============================] - 257s 189ms/step - loss: 0.0812 - accuracy: 0.9741 - val_loss: 0.1002 - val_accuracy: 0.9696\n",
            "Epoch 6/10\n",
            "1358/1358 [==============================] - 256s 189ms/step - loss: 0.0788 - accuracy: 0.9739 - val_loss: 0.0909 - val_accuracy: 0.9718\n",
            "Epoch 7/10\n",
            "1358/1358 [==============================] - 256s 188ms/step - loss: 0.0719 - accuracy: 0.9752 - val_loss: 0.0795 - val_accuracy: 0.9752\n",
            "Epoch 8/10\n",
            "1358/1358 [==============================] - 256s 188ms/step - loss: 0.0721 - accuracy: 0.9764 - val_loss: 0.1171 - val_accuracy: 0.9639\n",
            "Epoch 9/10\n",
            "1358/1358 [==============================] - 256s 188ms/step - loss: 0.0692 - accuracy: 0.9766 - val_loss: 0.0824 - val_accuracy: 0.9736\n",
            "Epoch 10/10\n",
            "1358/1358 [==============================] - 256s 188ms/step - loss: 0.0622 - accuracy: 0.9790 - val_loss: 0.1027 - val_accuracy: 0.9694\n"
>>>>>>> leaf_disease
          ]
        }
      ],
      "source": [
        "history = model.fit(train_dataset,validation_data=validation_dataset,epochs=10)"
      ]
    },
    {
      "cell_type": "code",
<<<<<<< HEAD
      "source": [
        "del(train_dataset)\n",
        "del(validation_dataset)"
      ],
      "metadata": {
        "id": "VmdhCmDAFpeX"
      },
      "execution_count": 12,
      "outputs": []
    },
    {
      "cell_type": "markdown",
      "source": [
        "Result of Transfer Training with Resnet50\n"
      ],
      "metadata": {
        "id": "bEOfH0Rntj5T"
      }
=======
      "execution_count": null,
      "metadata": {
        "id": "VmdhCmDAFpeX"
      },
      "outputs": [],
      "source": [
        "del(train_dataset)\n",
        "del(validation_dataset)"
      ]
    },
    {
      "cell_type": "markdown",
      "metadata": {
        "id": "bEOfH0Rntj5T"
      },
      "source": [
        "Result of Transfer Training with Resnet50\n"
      ]
>>>>>>> leaf_disease
    },
    {
      "cell_type": "code",
      "execution_count": null,
      "metadata": {
        "colab": {
          "base_uri": "https://localhost:8080/",
          "height": 513
        },
        "id": "T6OisrWSv5sd",
<<<<<<< HEAD
        "outputId": "75ab430d-4f5f-45ff-8b9d-209fefea38a4"
      },
      "outputs": [
        {
          "output_type": "display_data",
          "data": {
            "text/plain": [
              "<Figure size 576x576 with 2 Axes>"
            ],
            "image/png": "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\n"
          },
          "metadata": {
            "needs_background": "light"
          }
=======
        "outputId": "97a0c1ff-925f-4723-8855-0404645e896e"
      },
      "outputs": [
        {
          "data": {
            "image/png": "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",
            "text/plain": [
              "<Figure size 576x576 with 2 Axes>"
            ]
          },
          "metadata": {
            "needs_background": "light"
          },
          "output_type": "display_data"
>>>>>>> leaf_disease
        }
      ],
      "source": [
        "acc = [0.] + history.history['accuracy']\n",
        "val_acc = [0.] + history.history['val_accuracy']\n",
        "\n",
        "loss = history.history['loss']\n",
        "val_loss = history.history['val_loss']\n",
        "\n",
        "plt.figure(figsize=(8, 8))\n",
        "plt.subplot(2, 1, 1)\n",
        "plt.plot(acc, label='Training Accuracy')\n",
        "plt.plot(val_acc, label='Validation Accuracy')\n",
        "plt.legend(loc='lower right')\n",
        "plt.ylabel('Accuracy')\n",
        "plt.ylim([min(plt.ylim()),1])\n",
        "plt.title('Training and Validation Accuracy')\n",
        "\n",
        "plt.subplot(2, 1, 2)\n",
        "plt.plot(loss, label='Training Loss')\n",
        "plt.plot(val_loss, label='Validation Loss')\n",
        "plt.legend(loc='upper right')\n",
        "plt.ylabel('Cross Entropy')\n",
        "plt.ylim([0,1.0])\n",
        "plt.title('Training and Validation Loss')\n",
        "plt.xlabel('epoch')\n",
        "plt.show()"
      ]
    },
    {
      "cell_type": "code",
<<<<<<< HEAD
=======
      "execution_count": null,
      "metadata": {
        "id": "Nld0RgbBeHnO"
      },
      "outputs": [],
>>>>>>> leaf_disease
      "source": [
        "#For training \n",
        "\n",
        "model.save('model.h5')"
<<<<<<< HEAD
      ],
      "metadata": {
        "id": "Nld0RgbBeHnO"
      },
      "execution_count": null,
      "outputs": []
    },
    {
      "cell_type": "code",
=======
      ]
    },
    {
      "cell_type": "code",
      "execution_count": null,
      "metadata": {
        "id": "_rwlxYOkgMkg"
      },
      "outputs": [],
>>>>>>> leaf_disease
      "source": [
        "#For training \n",
        "\n",
        "\n",
        "model = tf.keras.models.load_model('/content/model.h5')"
<<<<<<< HEAD
      ],
      "metadata": {
        "id": "_rwlxYOkgMkg"
      },
      "execution_count": 12,
      "outputs": []
    },
    {
      "cell_type": "code",
      "source": [
        "model.summary()"
      ],
=======
      ]
    },
    {
      "cell_type": "code",
      "execution_count": null,
>>>>>>> leaf_disease
      "metadata": {
        "colab": {
          "base_uri": "https://localhost:8080/"
        },
        "id": "h599a_FzAYbb",
<<<<<<< HEAD
        "outputId": "b118be43-3580-40c0-c5b7-2c7b3235fba5"
      },
      "execution_count": 11,
      "outputs": [
        {
          "output_type": "stream",
          "name": "stdout",
=======
        "outputId": "870913f5-c98a-4906-e4f5-b2db805e5d14"
      },
      "outputs": [
        {
          "name": "stdout",
          "output_type": "stream",
>>>>>>> leaf_disease
          "text": [
            "Model: \"model\"\n",
            "_________________________________________________________________\n",
            " Layer (type)                Output Shape              Param #   \n",
            "=================================================================\n",
<<<<<<< HEAD
            " input_2 (InputLayer)        [(None, 256, 256, 3)]     0         \n",
            "                                                                 \n",
            " sequential_3 (Sequential)   (None, 256, 256, 3)       0         \n",
=======
            " input_1 (InputLayer)        [(None, 256, 256, 3)]     0         \n",
            "                                                                 \n",
            " sequential_2 (Sequential)   (None, 256, 256, 3)       0         \n",
>>>>>>> leaf_disease
            "                                                                 \n",
            " tf.__operators__.getitem (S  (None, 256, 256, 3)      0         \n",
            " licingOpLambda)                                                 \n",
            "                                                                 \n",
            " tf.nn.bias_add (TFOpLambda)  (None, 256, 256, 3)      0         \n",
            "                                                                 \n",
            " resnet50 (Functional)       (None, 8, 8, 2048)        23587712  \n",
            "                                                                 \n",
            " global_average_pooling2d (G  (None, 2048)             0         \n",
            " lobalAveragePooling2D)                                          \n",
            "                                                                 \n",
            " dropout (Dropout)           (None, 2048)              0         \n",
            "                                                                 \n",
            " dense (Dense)               (None, 50)                102450    \n",
            "                                                                 \n",
            "=================================================================\n",
            "Total params: 23,690,162\n",
            "Trainable params: 102,450\n",
            "Non-trainable params: 23,587,712\n",
            "_________________________________________________________________\n"
          ]
        }
<<<<<<< HEAD
=======
      ],
      "source": [
        "model.summary()"
>>>>>>> leaf_disease
      ]
    },
    {
      "cell_type": "code",
<<<<<<< HEAD
      "source": [
        "pred = model.predict(x_test)"
      ],
      "metadata": {
        "id": "u_OwG6iN3j8I"
      },
      "execution_count": 11,
      "outputs": []
    },
    {
      "cell_type": "code",
      "source": [
        "y_test.shape"
      ],
=======
      "execution_count": null,
      "metadata": {
        "id": "u_OwG6iN3j8I"
      },
      "outputs": [],
      "source": [
        "pred = model.predict(x_test)"
      ]
    },
    {
      "cell_type": "code",
      "execution_count": null,
>>>>>>> leaf_disease
      "metadata": {
        "colab": {
          "base_uri": "https://localhost:8080/"
        },
        "id": "L6V-UVYt4QXA",
<<<<<<< HEAD
        "outputId": "49f7f6a9-b047-4dcb-a5c8-0b5b451df900"
      },
      "execution_count": 12,
      "outputs": [
        {
          "output_type": "execute_result",
          "data": {
            "text/plain": [
              "(4032, 40)"
            ]
          },
          "metadata": {},
          "execution_count": 12
        }
=======
        "outputId": "c4bbc66e-38ce-471e-badd-6d90f84eb499"
      },
      "outputs": [
        {
          "data": {
            "text/plain": [
              "(1984, 40)"
            ]
          },
          "execution_count": 13,
          "metadata": {},
          "output_type": "execute_result"
        }
      ],
      "source": [
        "y_test.shape"
>>>>>>> leaf_disease
      ]
    },
    {
      "cell_type": "code",
<<<<<<< HEAD
=======
      "execution_count": null,
      "metadata": {
        "colab": {
          "base_uri": "https://localhost:8080/"
        },
        "id": "QIROM7DC4rYQ",
        "outputId": "6fd377af-e0b8-480e-c031-cdb52842e593"
      },
      "outputs": [
        {
          "data": {
            "text/plain": [
              "(1984,)"
            ]
          },
          "execution_count": 14,
          "metadata": {},
          "output_type": "execute_result"
        }
      ],
>>>>>>> leaf_disease
      "source": [
        "Pred=[]\n",
        "for i in range(pred.shape[0]):\n",
        "  temp=pred[i][0:]\n",
        "  temp = np.argmax(temp)\n",
        "  Pred.append(temp)\n",
        "Pred=np.asarray(Pred)\n",
<<<<<<< HEAD
        "Pred.shape  "
      ],
      "metadata": {
        "colab": {
          "base_uri": "https://localhost:8080/"
        },
        "id": "QIROM7DC4rYQ",
        "outputId": "80b8a12d-0dcb-4e99-a892-5eb0f7c90bbd"
      },
      "execution_count": 13,
      "outputs": [
        {
          "output_type": "execute_result",
          "data": {
            "text/plain": [
              "(4032,)"
            ]
          },
          "metadata": {},
          "execution_count": 13
        }
=======
        "Pred.shape"
>>>>>>> leaf_disease
      ]
    },
    {
      "cell_type": "code",
<<<<<<< HEAD
      "source": [
        "Pred[0]"
      ],
=======
      "execution_count": null,
>>>>>>> leaf_disease
      "metadata": {
        "colab": {
          "base_uri": "https://localhost:8080/"
        },
        "id": "RmXi6RX54NHA",
<<<<<<< HEAD
        "outputId": "aa82dcb7-776e-41fa-878c-7e3e177ad083"
      },
      "execution_count": 14,
      "outputs": [
        {
          "output_type": "execute_result",
          "data": {
            "text/plain": [
              "6"
            ]
          },
          "metadata": {},
          "execution_count": 14
        }
=======
        "outputId": "7788ce2e-fd5f-4599-8088-b89d09a11221"
      },
      "outputs": [
        {
          "data": {
            "text/plain": [
              "17"
            ]
          },
          "execution_count": 15,
          "metadata": {},
          "output_type": "execute_result"
        }
      ],
      "source": [
        "Pred[0]"
>>>>>>> leaf_disease
      ]
    },
    {
      "cell_type": "code",
<<<<<<< HEAD
      "source": [
        "from sklearn.metrics import r2_score"
      ],
      "metadata": {
        "id": "izopHUhp35QR"
      },
      "execution_count": 15,
      "outputs": []
    },
    {
      "cell_type": "markdown",
      "source": [
        "Only Resnet R2 score"
      ],
      "metadata": {
        "id": "KThi6xZ_7kOQ"
      }
    },
    {
      "cell_type": "code",
      "source": [
        "r2_score(Y_test, Pred)"
      ],
=======
      "execution_count": null,
      "metadata": {
        "id": "izopHUhp35QR"
      },
      "outputs": [],
      "source": [
        "from sklearn.metrics import f1_score"
      ]
    },
    {
      "cell_type": "markdown",
      "metadata": {
        "id": "KThi6xZ_7kOQ"
      },
      "source": [
        "Only Resnet F1 score"
      ]
    },
    {
      "cell_type": "code",
      "execution_count": null,
>>>>>>> leaf_disease
      "metadata": {
        "colab": {
          "base_uri": "https://localhost:8080/"
        },
        "id": "FrIi4xSD3y_a",
<<<<<<< HEAD
        "outputId": "0d44c76f-30dd-4c81-999d-e7a8417072f6"
      },
      "execution_count": 16,
      "outputs": [
        {
          "output_type": "execute_result",
          "data": {
            "text/plain": [
              "0.6322620495494758"
            ]
          },
          "metadata": {},
          "execution_count": 16
        }
=======
        "outputId": "04102f8f-76c2-474f-b1bb-4867c4bf4c6b"
      },
      "outputs": [
        {
          "data": {
            "text/plain": [
              "0.8634072580645161"
            ]
          },
          "execution_count": 17,
          "metadata": {},
          "output_type": "execute_result"
        }
      ],
      "source": [
        "f1_score(Y_test, Pred, average='micro')"
>>>>>>> leaf_disease
      ]
    },
    {
      "cell_type": "code",
<<<<<<< HEAD
      "source": [
        "del(pred)\n",
        "del(Pred)"
      ],
      "metadata": {
        "colab": {
          "base_uri": "https://localhost:8080/",
          "height": 190
        },
        "id": "H0FPe7ZuKTkU",
        "outputId": "d2e97e70-34ca-421c-e573-e1c94df0e12e"
      },
      "execution_count": 18,
      "outputs": [
        {
          "output_type": "error",
          "ename": "NameError",
          "evalue": "ignored",
          "traceback": [
            "\u001b[0;31m---------------------------------------------------------------------------\u001b[0m",
            "\u001b[0;31mNameError\u001b[0m                                 Traceback (most recent call last)",
            "\u001b[0;32m<ipython-input-18-106645683b87>\u001b[0m in \u001b[0;36m<module>\u001b[0;34m\u001b[0m\n\u001b[0;32m----> 1\u001b[0;31m \u001b[0;32mdel\u001b[0m\u001b[0;34m(\u001b[0m\u001b[0mpred\u001b[0m\u001b[0;34m)\u001b[0m\u001b[0;34m\u001b[0m\u001b[0;34m\u001b[0m\u001b[0m\n\u001b[0m\u001b[1;32m      2\u001b[0m \u001b[0;32mdel\u001b[0m\u001b[0;34m(\u001b[0m\u001b[0mPred\u001b[0m\u001b[0;34m)\u001b[0m\u001b[0;34m\u001b[0m\u001b[0;34m\u001b[0m\u001b[0m\n",
            "\u001b[0;31mNameError\u001b[0m: name 'pred' is not defined"
          ]
        }
=======
      "execution_count": null,
      "metadata": {
        "id": "H0FPe7ZuKTkU"
      },
      "outputs": [],
      "source": [
        "del(pred)\n",
        "del(Pred)"
>>>>>>> leaf_disease
      ]
    },
    {
      "cell_type": "markdown",
<<<<<<< HEAD
      "source": [
        "Making an intermediate layer model from resnet to use for feature selection "
      ],
      "metadata": {
        "id": "nYPt7rZJ17vX"
      }
    },
    {
      "cell_type": "code",
      "source": [
        "from keras.models import Model\n",
        "layer_name='global_average_pooling2d'\n",
        "intermediate_layer_model = Model(inputs=model.input,\n",
        "                                 outputs=model.get_layer(layer_name).output)\n",
        "\n",
        "intermediate_layer_model.summary()"
      ],
=======
      "metadata": {
        "id": "nYPt7rZJ17vX"
      },
      "source": [
        "Making an intermediate layer model from resnet to use for feature selection "
      ]
    },
    {
      "cell_type": "code",
      "execution_count": null,
>>>>>>> leaf_disease
      "metadata": {
        "colab": {
          "base_uri": "https://localhost:8080/"
        },
        "id": "5QyqEY1uhCkt",
<<<<<<< HEAD
        "outputId": "f0037982-a98b-4cd8-969c-dce9a2d4b433"
      },
      "execution_count": 13,
      "outputs": [
        {
          "output_type": "stream",
          "name": "stdout",
=======
        "outputId": "50a6a950-103f-4040-bdae-064a771f9134"
      },
      "outputs": [
        {
          "name": "stdout",
          "output_type": "stream",
>>>>>>> leaf_disease
          "text": [
            "Model: \"model\"\n",
            "_________________________________________________________________\n",
            " Layer (type)                Output Shape              Param #   \n",
            "=================================================================\n",
<<<<<<< HEAD
            " input_2 (InputLayer)        [(None, 256, 256, 3)]     0         \n",
            "                                                                 \n",
            " sequential_3 (Sequential)   (None, 256, 256, 3)       0         \n",
=======
            " input_1 (InputLayer)        [(None, 256, 256, 3)]     0         \n",
            "                                                                 \n",
            " sequential_2 (Sequential)   (None, 256, 256, 3)       0         \n",
>>>>>>> leaf_disease
            "                                                                 \n",
            " tf.__operators__.getitem (S  (None, 256, 256, 3)      0         \n",
            " licingOpLambda)                                                 \n",
            "                                                                 \n",
            " tf.nn.bias_add (TFOpLambda)  (None, 256, 256, 3)      0         \n",
            "                                                                 \n",
            " resnet50 (Functional)       (None, 8, 8, 2048)        23587712  \n",
            "                                                                 \n",
            " global_average_pooling2d (G  (None, 2048)             0         \n",
            " lobalAveragePooling2D)                                          \n",
            "                                                                 \n",
            "=================================================================\n",
            "Total params: 23,587,712\n",
            "Trainable params: 0\n",
            "Non-trainable params: 23,587,712\n",
            "_________________________________________________________________\n"
          ]
        }
<<<<<<< HEAD
=======
      ],
      "source": [
        "from keras.models import Model\n",
        "layer_name='global_average_pooling2d'\n",
        "intermediate_layer_model = Model(inputs=model.input,\n",
        "                                 outputs=model.get_layer(layer_name).output)\n",
        "\n",
        "intermediate_layer_model.summary()"
>>>>>>> leaf_disease
      ]
    },
    {
      "cell_type": "code",
<<<<<<< HEAD
      "source": [
        "#Deleting base model for memory optimization\n",
        "\n",
        "del(model)\n"
      ],
      "metadata": {
        "id": "YfOM-ZInhmsk"
      },
      "execution_count": 14,
      "outputs": []
    },
    {
      "cell_type": "code",
      "source": [
        "import pandas as pd"
      ],
      "metadata": {
        "id": "raoY2AhK2rOn"
      },
      "execution_count": 15,
      "outputs": []
    },
    {
      "cell_type": "code",
      "execution_count": 16,
=======
      "execution_count": null,
      "metadata": {
        "id": "YfOM-ZInhmsk"
      },
      "outputs": [],
      "source": [
        "#Deleting base model for memory optimization\n",
        "\n",
        "del(model)"
      ]
    },
    {
      "cell_type": "code",
      "execution_count": null,
      "metadata": {
        "id": "raoY2AhK2rOn"
      },
      "outputs": [],
      "source": [
        "import pandas as pd"
      ]
    },
    {
      "cell_type": "code",
      "execution_count": null,
>>>>>>> leaf_disease
      "metadata": {
        "id": "-up7Xda6wgQm"
      },
      "outputs": [],
      "source": [
        "\n",
        "intermediate_output = intermediate_layer_model.predict(x_test) \n",
        "intermediate_output = pd.DataFrame(data=intermediate_output)"
      ]
    },
    {
      "cell_type": "code",
<<<<<<< HEAD
      "source": [
        "intermediate_output.shape"
      ],
=======
      "execution_count": null,
>>>>>>> leaf_disease
      "metadata": {
        "colab": {
          "base_uri": "https://localhost:8080/"
        },
        "id": "bdVxW5K3fIf3",
<<<<<<< HEAD
        "outputId": "4626fd26-362f-497b-f85f-f83913ba44a1"
      },
      "execution_count": 17,
      "outputs": [
        {
          "output_type": "execute_result",
          "data": {
            "text/plain": [
              "(4032, 2048)"
            ]
          },
          "metadata": {},
          "execution_count": 17
        }
=======
        "outputId": "3dc23128-8208-4db2-dfe2-7c78e2b4eb86"
      },
      "outputs": [
        {
          "data": {
            "text/plain": [
              "(1984, 2048)"
            ]
          },
          "execution_count": 23,
          "metadata": {},
          "output_type": "execute_result"
        }
      ],
      "source": [
        "intermediate_output.shape"
>>>>>>> leaf_disease
      ]
    },
    {
      "cell_type": "code",
<<<<<<< HEAD
=======
      "execution_count": null,
      "metadata": {
        "id": "M0R6d7BPgzA-"
      },
      "outputs": [],
>>>>>>> leaf_disease
      "source": [
        "\n",
        "intermediate_output_train = intermediate_layer_model.predict(x_train) \n",
        "intermediate_output_train = pd.DataFrame(data=intermediate_output_train)"
<<<<<<< HEAD
      ],
      "metadata": {
        "id": "M0R6d7BPgzA-"
      },
      "execution_count": null,
      "outputs": []
    },
    {
      "cell_type": "code",
=======
      ]
    },
    {
      "cell_type": "code",
      "execution_count": null,
      "metadata": {
        "colab": {
          "base_uri": "https://localhost:8080/"
        },
        "id": "l0lqzsFJ6U_J",
        "outputId": "b5bd2623-7d5e-4d96-e2c9-d9ec2f2386d6"
      },
      "outputs": [
        {
          "name": "stdout",
          "output_type": "stream",
          "text": [
            "Looking in indexes: https://pypi.org/simple, https://us-python.pkg.dev/colab-wheels/public/simple/\n",
            "Requirement already satisfied: numba in /usr/local/lib/python3.7/dist-packages (0.56.2)\n",
            "Requirement already satisfied: numpy<1.24,>=1.18 in /usr/local/lib/python3.7/dist-packages (from numba) (1.21.6)\n",
            "Requirement already satisfied: llvmlite<0.40,>=0.39.0dev0 in /usr/local/lib/python3.7/dist-packages (from numba) (0.39.1)\n",
            "Requirement already satisfied: importlib-metadata in /usr/local/lib/python3.7/dist-packages (from numba) (4.12.0)\n",
            "Requirement already satisfied: setuptools<60 in /usr/local/lib/python3.7/dist-packages (from numba) (57.4.0)\n",
            "Requirement already satisfied: typing-extensions>=3.6.4 in /usr/local/lib/python3.7/dist-packages (from importlib-metadata->numba) (4.1.1)\n",
            "Requirement already satisfied: zipp>=0.5 in /usr/local/lib/python3.7/dist-packages (from importlib-metadata->numba) (3.8.1)\n"
          ]
        }
      ],
>>>>>>> leaf_disease
      "source": [
        "#Reset GPU for memory optimization\n",
        "\n",
        "!pip install numba\n",
        "from numba import cuda\n",
        "device = cuda.get_current_device()\n",
        "device.reset()"
<<<<<<< HEAD
      ],
      "metadata": {
        "colab": {
          "base_uri": "https://localhost:8080/"
        },
        "id": "l0lqzsFJ6U_J",
        "outputId": "634d4265-21e0-43bf-ca4c-7f6641e5ee0f"
      },
      "execution_count": 17,
      "outputs": [
        {
          "output_type": "stream",
          "name": "stdout",
          "text": [
            "Looking in indexes: https://pypi.org/simple, https://us-python.pkg.dev/colab-wheels/public/simple/\n",
            "Requirement already satisfied: numba in /usr/local/lib/python3.7/dist-packages (0.56.2)\n",
            "Requirement already satisfied: setuptools<60 in /usr/local/lib/python3.7/dist-packages (from numba) (57.4.0)\n",
            "Requirement already satisfied: numpy<1.24,>=1.18 in /usr/local/lib/python3.7/dist-packages (from numba) (1.21.6)\n",
            "Requirement already satisfied: importlib-metadata in /usr/local/lib/python3.7/dist-packages (from numba) (4.12.0)\n",
            "Requirement already satisfied: llvmlite<0.40,>=0.39.0dev0 in /usr/local/lib/python3.7/dist-packages (from numba) (0.39.1)\n",
            "Requirement already satisfied: typing-extensions>=3.6.4 in /usr/local/lib/python3.7/dist-packages (from importlib-metadata->numba) (4.1.1)\n",
            "Requirement already satisfied: zipp>=0.5 in /usr/local/lib/python3.7/dist-packages (from importlib-metadata->numba) (3.8.1)\n"
          ]
        }
=======
>>>>>>> leaf_disease
      ]
    },
    {
      "cell_type": "code",
<<<<<<< HEAD
      "source": [
        "intermediate_output_train.shape"
      ],
=======
      "execution_count": null,
>>>>>>> leaf_disease
      "metadata": {
        "colab": {
          "base_uri": "https://localhost:8080/"
        },
        "id": "I43F0sxkNG-8",
<<<<<<< HEAD
        "outputId": "4e1ba549-c592-4756-e7f0-7e81d3fb17cc"
      },
      "execution_count": 18,
      "outputs": [
        {
          "output_type": "execute_result",
=======
        "outputId": "577e93fa-b702-4a8c-b4a0-5f29b7375f57"
      },
      "outputs": [
        {
>>>>>>> leaf_disease
          "data": {
            "text/plain": [
              "(2368, 2048)"
            ]
          },
<<<<<<< HEAD
          "metadata": {},
          "execution_count": 18
        }
      ]
    },
    {
      "cell_type": "code",
      "source": [],
      "metadata": {
        "colab": {
          "base_uri": "https://localhost:8080/"
        },
        "id": "7W8QxCn81leP",
        "outputId": "c015fd01-d7df-4946-91cc-823b087b4901"
      },
      "execution_count": 38,
      "outputs": [
        {
          "output_type": "execute_result",
          "data": {
            "text/plain": [
              "(1152,)"
            ]
          },
          "metadata": {},
          "execution_count": 38
        }
      ]
    },
    {
      "cell_type": "code",
      "source": [
        "del(intermediate_layer_model)\n"
      ],
      "metadata": {
        "id": "stf1UXQLj5Ye"
      },
      "execution_count": 19,
      "outputs": []
    },
    {
      "cell_type": "markdown",
      "source": [
        "Starting to make hybrid models using XGBoost"
      ],
      "metadata": {
        "id": "tRBPAVxc3Xvx"
      }
    },
    {
      "cell_type": "code",
      "source": [
        "from xgboost import XGBClassifier"
      ],
      "metadata": {
        "id": "i5hrRgyuoLrM"
      },
      "execution_count": 20,
      "outputs": []
    },
    {
      "cell_type": "code",
      "source": [
        "\n",
        "\n",
        "xgbmodel = XGBClassifier(objective='multi:softprob', \n",
        "                      num_class= 50)\n"
      ],
      "metadata": {
        "id": "v4JwzSwHCao_"
      },
      "execution_count": 21,
      "outputs": []
    },
    {
      "cell_type": "markdown",
      "source": [
        "Results of Conv XGBoost hybrid model"
      ],
      "metadata": {
        "id": "HrMUZX4Epluo"
      }
    },
    {
      "cell_type": "code",
      "source": [
        "\n",
        "xgb = XGBClassifier(objective='multi:softprob', \n",
        "                      num_class= 50)"
      ],
      "metadata": {
        "id": "v4hcaiVtryRX"
      },
      "execution_count": 22,
      "outputs": []
    },
    {
      "cell_type": "code",
      "source": [
        "xgb.fit(intermediate_output_train,Y_train)"
      ],
=======
          "execution_count": 26,
          "metadata": {},
          "output_type": "execute_result"
        }
      ],
      "source": [
        "intermediate_output_train.shape"
      ]
    },
    {
      "cell_type": "code",
      "execution_count": null,
      "metadata": {
        "id": "7W8QxCn81leP"
      },
      "outputs": [],
      "source": []
    },
    {
      "cell_type": "code",
      "execution_count": null,
      "metadata": {
        "id": "stf1UXQLj5Ye"
      },
      "outputs": [],
      "source": [
        "del(intermediate_layer_model)"
      ]
    },
    {
      "cell_type": "markdown",
      "metadata": {
        "id": "tRBPAVxc3Xvx"
      },
      "source": [
        "Starting to make hybrid models using XGBoost"
      ]
    },
    {
      "cell_type": "code",
      "execution_count": null,
      "metadata": {
        "id": "i5hrRgyuoLrM"
      },
      "outputs": [],
      "source": [
        "from xgboost import XGBClassifier"
      ]
    },
    {
      "cell_type": "markdown",
      "metadata": {
        "id": "HrMUZX4Epluo"
      },
      "source": [
        "Results of Conv XGBoost hybrid model"
      ]
    },
    {
      "cell_type": "code",
      "execution_count": null,
      "metadata": {
        "id": "v4hcaiVtryRX"
      },
      "outputs": [],
      "source": [
        "\n",
        "xgb = XGBClassifier(objective='multi:softprob', \n",
        "                      num_class= 40)"
      ]
    },
    {
      "cell_type": "code",
      "execution_count": null,
>>>>>>> leaf_disease
      "metadata": {
        "colab": {
          "base_uri": "https://localhost:8080/"
        },
        "id": "c4-yGZABxWjP",
<<<<<<< HEAD
        "outputId": "f94a441a-abe5-4fee-cabf-5454aa3d0a3d"
      },
      "execution_count": 23,
      "outputs": [
        {
          "output_type": "execute_result",
          "data": {
            "text/plain": [
              "XGBClassifier(num_class=50, objective='multi:softprob')"
            ]
          },
          "metadata": {},
          "execution_count": 23
        }
=======
        "outputId": "cd75b8eb-7f8d-4608-cc5f-c81fb36f26dc"
      },
      "outputs": [
        {
          "data": {
            "text/plain": [
              "XGBClassifier(num_class=40, objective='multi:softprob')"
            ]
          },
          "execution_count": 31,
          "metadata": {},
          "output_type": "execute_result"
        }
      ],
      "source": [
        "xgb.fit(intermediate_output_train,Y_train)"
>>>>>>> leaf_disease
      ]
    },
    {
      "cell_type": "markdown",
<<<<<<< HEAD
      "source": [
        "R2 Score of Hybrid classifier"
      ],
      "metadata": {
        "id": "SiHINMYSIG62"
      }
    },
    {
      "cell_type": "code",
      "source": [
        "xgb.score(intermediate_output, Y_test)"
      ],
=======
      "metadata": {
        "id": "SiHINMYSIG62"
      },
      "source": [
        "F1 Score of Hybrid classifier"
      ]
    },
    {
      "cell_type": "code",
      "execution_count": null,
      "metadata": {
        "id": "hP1_ckIUEONO"
      },
      "outputs": [],
      "source": [
        "pred2 = xgb.predict(intermediate_output)"
      ]
    },
    {
      "cell_type": "code",
      "execution_count": null,
>>>>>>> leaf_disease
      "metadata": {
        "colab": {
          "base_uri": "https://localhost:8080/"
        },
<<<<<<< HEAD
        "id": "fzGBh2l_xZX0",
        "outputId": "4636d1dd-e8e0-4f2c-8b14-43b0d8f2855a"
      },
      "execution_count": 24,
      "outputs": [
        {
          "output_type": "execute_result",
=======
        "id": "k5WtVY4pEY3v",
        "outputId": "3abc0d52-de81-46a2-a16d-6221089c1ced"
      },
      "outputs": [
        {
          "data": {
            "text/plain": [
              "17"
            ]
          },
          "execution_count": 33,
          "metadata": {},
          "output_type": "execute_result"
        }
      ],
      "source": [
        "pred2[0]"
      ]
    },
    {
      "cell_type": "code",
      "execution_count": null,
      "metadata": {
        "colab": {
          "base_uri": "https://localhost:8080/"
        },
        "id": "BNpU4EP_xbQP",
        "outputId": "fb49d89f-dc71-4ee8-e2d5-39851f5b819a"
      },
      "outputs": [
        {
>>>>>>> leaf_disease
          "data": {
            "text/plain": [
              "0.8659274193548387"
            ]
          },
<<<<<<< HEAD
          "metadata": {},
          "execution_count": 24
        }
=======
          "execution_count": 34,
          "metadata": {},
          "output_type": "execute_result"
        }
      ],
      "source": [
        "f1_score(Y_test, pred2, average='micro')"
>>>>>>> leaf_disease
      ]
    },
    {
      "cell_type": "code",
<<<<<<< HEAD
      "source": [],
      "metadata": {
        "id": "BNpU4EP_xbQP"
      },
      "execution_count": null,
      "outputs": []
=======
      "execution_count": null,
      "metadata": {
        "colab": {
          "base_uri": "https://localhost:8080/"
        },
        "id": "4QcynBpKGHTQ",
        "outputId": "aa7a2605-fd11-493b-e5d3-dd1994159eae"
      },
      "outputs": [
        {
          "data": {
            "text/plain": [
              "0.8659274193548387"
            ]
          },
          "execution_count": 35,
          "metadata": {},
          "output_type": "execute_result"
        }
      ],
      "source": [
        "xgb.score(intermediate_output,Y_test)"
      ]
>>>>>>> leaf_disease
    }
  ],
  "metadata": {
    "accelerator": "GPU",
    "colab": {
<<<<<<< HEAD
      "provenance": [],
      "collapsed_sections": []
    },
    "kernelspec": {
      "display_name": "Python 3",
      "name": "python3"
    },
    "language_info": {
      "name": "python"
=======
      "collapsed_sections": [],
      "provenance": []
    },
    "kernelspec": {
      "display_name": "Python 3.9.13 ('tensorflow_venv')",
      "language": "python",
      "name": "python3"
    },
    "language_info": {
      "name": "python",
      "version": "3.9.13"
    },
    "vscode": {
      "interpreter": {
        "hash": "22919348e4495772b891b8f26ea421fd2aa751dd1ac0ab96942fcce54cacab0e"
      }
>>>>>>> leaf_disease
    }
  },
  "nbformat": 4,
  "nbformat_minor": 0
<<<<<<< HEAD
}
=======
}
>>>>>>> leaf_disease
