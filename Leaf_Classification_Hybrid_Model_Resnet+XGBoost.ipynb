{
  "cells": [
    {
      "cell_type": "code",
      "source": [
        "!git clone https://github.com/Khushiyant/crop-guard.git"
      ],
      "metadata": {
        "id": "3or0ErNtC9Dl",
        "colab": {
          "base_uri": "https://localhost:8080/"
        },
        "outputId": "46fa63e3-ac0e-4f21-ece1-b77883adcb60"
      },
      "execution_count": null,
      "outputs": [
        {
          "output_type": "stream",
          "name": "stdout",
          "text": [
            "Cloning into 'crop-guard'...\n",
            "fatal: could not read Username for 'https://github.com': No such device or address\n"
          ]
        }
      ]
    },
    {
      "cell_type": "code",
      "source": [
        "!git clone https://github.com/gabrieldgf4/PlantVillage-Dataset.git"
      ],
      "metadata": {
        "colab": {
          "base_uri": "https://localhost:8080/"
        },
        "id": "LITNxxGobsj7",
        "outputId": "b2760717-7919-44b8-f2c8-45f4ca3e03c7"
      },
      "execution_count": null,
      "outputs": [
        {
          "output_type": "stream",
          "name": "stdout",
          "text": [
            "fatal: destination path 'PlantVillage-Dataset' already exists and is not an empty directory.\n"
          ]
        }
      ]
    },
    {
      "cell_type": "code",
      "execution_count": null,
      "metadata": {
        "id": "1tqgXRDTqNN7"
      },
      "outputs": [],
      "source": [
        "import matplotlib.pyplot as plt\n",
        "import numpy as np\n",
        "from sklearn.model_selection import RandomizedSearchCV, GridSearchCV\n",
        "from sklearn.model_selection import StratifiedKFold\n",
        "import os\n",
        "import tensorflow as tf\n",
        "import tensorflow.keras.layers as tfl\n",
        "from keras.callbacks import History\n",
        "from keras.callbacks import ModelCheckpoint, TensorBoard\n",
        "\n",
        "from keras.engine import training\n",
        "from keras.layers import Conv2D, MaxPooling2D, GlobalAveragePooling2D, Dropout, Activation, Average\n",
        "from keras.losses import categorical_crossentropy\n",
        "from keras.models import Model, Input\n",
        "from sklearn import preprocessing\n",
        "from sklearn.model_selection import train_test_split\n",
        "\n",
        "from tensorflow.python.framework.ops import Tensor\n",
        "from typing import Tuple, List\n",
        "import glob\n",
        "import numpy as np\n",
        "import os\n",
        "from tensorflow.keras.preprocessing.image import ImageDataGenerator \n",
        "from tensorflow.keras.preprocessing import image_dataset_from_directory\n",
        "from tensorflow.keras.layers.experimental.preprocessing import RandomFlip, RandomRotation\n",
        "from tqdm import tqdm\n",
        "import cv2 as cv2\n",
        "from keras.preprocessing.image import img_to_array"
      ]
    },
    {
      "cell_type": "code",
      "source": [
        "directory_root = '/content/PlantVillage-Dataset'"
      ],
      "metadata": {
        "id": "5Bkc6jwgb_gt"
      },
      "execution_count": null,
      "outputs": []
    },
    {
      "cell_type": "markdown",
      "source": [
        "Data for Resnet Training"
      ],
      "metadata": {
        "id": "0eeVn1jIFVls"
      }
    },
    {
      "cell_type": "code",
      "source": [
        "BATCH_SIZE = 32\n",
        "IMG_SIZE = (256, 256)\n",
        "directory = \"/content/PlantVillage-Dataset/\"\n",
        "train_dataset = tf.keras.utils.image_dataset_from_directory(directory,\n",
        "                                             shuffle=True,\n",
        "                                             batch_size=BATCH_SIZE,\n",
        "                                             image_size=IMG_SIZE,\n",
        "                                             validation_split=0.2,\n",
        "                                             subset='training',\n",
        "                                             seed=42)\n",
        "validation_dataset =tf.keras.utils.image_dataset_from_directory(directory,\n",
        "                                             shuffle=True,\n",
        "                                             batch_size=BATCH_SIZE,\n",
        "                                             image_size=IMG_SIZE,\n",
        "                                             validation_split=0.2,\n",
        "                                             subset='validation',\n",
        "                                             seed=42)"
      ],
      "metadata": {
        "colab": {
          "base_uri": "https://localhost:8080/"
        },
        "id": "8SjydZwxdSh6",
        "outputId": "b121468e-952a-4974-9e31-e6490b8327d0"
      },
      "execution_count": null,
      "outputs": [
        {
          "output_type": "stream",
          "name": "stdout",
          "text": [
            "Found 54305 files belonging to 40 classes.\n",
            "Using 43444 files for training.\n",
            "Found 54305 files belonging to 40 classes.\n",
            "Using 10861 files for validation.\n"
          ]
        }
      ]
    },
    {
      "cell_type": "markdown",
      "source": [
        "Data for XGBoost Training and Testing of models"
      ],
      "metadata": {
        "id": "nnSQKrlFFZMx"
      }
    },
    {
      "cell_type": "code",
      "source": [
        "IMG_SIZE = (256, 256)\n",
        "BATCH_SIZE = 64\n",
        "data_generator = tf.keras.preprocessing.image.ImageDataGenerator(\n",
        "    \n",
        "    zoom_range = 0.2, \n",
        "    horizontal_flip = True,\n",
        "    vertical_flip = True,\n",
        "    rotation_range = 180,\n",
        "    validation_split = 0.3) \n",
        "\n",
        "train_generator = data_generator.flow_from_directory(\n",
        "    \n",
        "                                            directory_root,\n",
        "                                            class_mode = 'categorical',\n",
        "                                             shuffle=True,\n",
        "                                             batch_size=64,\n",
        "                                             target_size =IMG_SIZE,\n",
        "                                             \n",
        "                                             subset='training',\n",
        "                                             seed=42)\n",
        "\n",
        "validation_generator = data_generator.flow_from_directory( \n",
        "directory_root,\n",
        "                                            class_mode = 'categorical',\n",
        "                                             shuffle=True,\n",
        "                                             batch_size=64,\n",
        "                                             target_size =IMG_SIZE,\n",
        "                                             \n",
        "                                             subset='validation',\n",
        "                                             seed=42)"
      ],
      "metadata": {
        "colab": {
          "base_uri": "https://localhost:8080/"
        },
        "id": "-WSLK5GuvPi2",
        "outputId": "bf58c623-3519-458c-9dc6-e08e706cfcf1"
      },
      "execution_count": null,
      "outputs": [
        {
          "output_type": "stream",
          "name": "stdout",
          "text": [
            "Found 38031 images belonging to 40 classes.\n",
            "Found 16274 images belonging to 40 classes.\n"
          ]
        }
      ]
    },
    {
      "cell_type": "code",
      "source": [
        "train_generator.reset()\n",
        "x_train, y_train = next(train_generator)\n",
        "for i in tqdm(range(int(len(train_generator)/16-1))): #1st batch is already fetched before the for loop.\n",
        "  img, label = next(train_generator)\n",
        "  x_train = np.append(x_train, img, axis=0 )\n",
        "  y_train = np.append(y_train, label, axis=0)\n",
        "print(x_train.shape, y_train.shape)"
      ],
      "metadata": {
        "colab": {
          "base_uri": "https://localhost:8080/"
        },
        "id": "jOuDX2dHvIxN",
        "outputId": "957c8dd3-494f-4637-d81a-55d1fd905547"
      },
      "execution_count": null,
      "outputs": [
        {
          "output_type": "stream",
          "name": "stderr",
          "text": [
            "100%|██████████| 36/36 [00:41<00:00,  1.17s/it]"
          ]
        },
        {
          "output_type": "stream",
          "name": "stdout",
          "text": [
            "(2368, 256, 256, 3) (2368, 40)\n"
          ]
        },
        {
          "output_type": "stream",
          "name": "stderr",
          "text": [
            "\n"
          ]
        }
      ]
    },
    {
      "cell_type": "code",
      "source": [
        "validation_generator.reset()\n",
        "x_test, y_test = next(validation_generator)\n",
        "for i in tqdm(range(int(len(validation_generator)/8)-1)): #1st batch is already fetched before the for loop.\n",
        "  img, label = next(validation_generator)\n",
        "  x_test = np.append(x_test, img, axis=0 )\n",
        "  y_test = np.append(y_test, label, axis=0)\n",
        "print(x_test.shape, y_test.shape)"
      ],
      "metadata": {
        "colab": {
          "base_uri": "https://localhost:8080/"
        },
        "id": "Dc88yjorxKMh",
        "outputId": "18d59cf2-1b15-4be8-ee7e-f56c85eeff15"
      },
      "execution_count": null,
      "outputs": [
        {
          "output_type": "stream",
          "name": "stderr",
          "text": [
            "100%|██████████| 30/30 [00:34<00:00,  1.15s/it]"
          ]
        },
        {
          "output_type": "stream",
          "name": "stdout",
          "text": [
            "(1984, 256, 256, 3) (1984, 40)\n"
          ]
        },
        {
          "output_type": "stream",
          "name": "stderr",
          "text": [
            "\n"
          ]
        }
      ]
    },
    {
      "cell_type": "code",
      "source": [
        "del(train_generator)\n",
        "del(validation_generator)"
      ],
      "metadata": {
        "id": "YVxxWDYrGqxh"
      },
      "execution_count": null,
      "outputs": []
    },
    {
      "cell_type": "code",
      "source": [
        "Y_train=[]\n",
        "for i in range(y_train.shape[0]):\n",
        "  temp=y_train[i][0:]\n",
        "  temp = np.argmax(temp)\n",
        "  Y_train.append(temp)\n",
        "\n",
        "Y_train=np.asarray(Y_train)\n",
        "Y_train.shape"
      ],
      "metadata": {
        "colab": {
          "base_uri": "https://localhost:8080/"
        },
        "id": "UgXv82rvz3Ho",
        "outputId": "f4e2db43-ec35-4ded-e327-21fe67a0e232"
      },
      "execution_count": null,
      "outputs": [
        {
          "output_type": "execute_result",
          "data": {
            "text/plain": [
              "(2368,)"
            ]
          },
          "metadata": {},
          "execution_count": 9
        }
      ]
    },
    {
      "cell_type": "code",
      "source": [
        "Y_test=[]\n",
        "for i in range(y_test.shape[0]):\n",
        "  temp=y_test[i][0:]\n",
        "  temp = np.argmax(temp)\n",
        "  Y_test.append(temp)\n",
        "\n",
        "Y_test=np.asarray(Y_test)\n",
        "Y_test.shape"
      ],
      "metadata": {
        "colab": {
          "base_uri": "https://localhost:8080/"
        },
        "id": "a5FI2_sdBZAG",
        "outputId": "ad42b365-34d6-4cf0-a3aa-b00a202f0454"
      },
      "execution_count": null,
      "outputs": [
        {
          "output_type": "execute_result",
          "data": {
            "text/plain": [
              "(1984,)"
            ]
          },
          "metadata": {},
          "execution_count": 10
        }
      ]
    },
    {
      "cell_type": "code",
      "source": [
        "# del(y_train)\n",
        "# del(y_test)"
      ],
      "metadata": {
        "id": "F-JPPh3CW4jc"
      },
      "execution_count": null,
      "outputs": []
    },
    {
      "cell_type": "code",
      "source": [
        "del(temp)"
      ],
      "metadata": {
        "id": "ucWYPWKxG4fK"
      },
      "execution_count": null,
      "outputs": []
    },
    {
      "cell_type": "markdown",
      "source": [
        "Basic Data Argumentation to increase the generalization of models"
      ],
      "metadata": {
        "id": "-s76hj1ZuKUz"
      }
    },
    {
      "cell_type": "code",
      "execution_count": null,
      "metadata": {
        "id": "eFki3SI7sCiy"
      },
      "outputs": [],
      "source": [
        "\n",
        "def data_augmenter():\n",
        "\n",
        "    data_augmentation = tf.keras.Sequential()\n",
        "    data_augmentation.add(RandomFlip('horizontal'))\n",
        "    data_augmentation.add(RandomRotation(0.2))\n",
        "    \n",
        "    \n",
        "    return data_augmentation"
      ]
    },
    {
      "cell_type": "markdown",
      "source": [
        "Base Resnet50 Model"
      ],
      "metadata": {
        "id": "oIbBk-SJttbl"
      }
    },
    {
      "cell_type": "code",
      "execution_count": null,
      "metadata": {
        "id": "PrtNS2m_sFV5"
      },
      "outputs": [],
      "source": [
        "def leaf_model(model_input: Tensor, data_augmentation=data_augmenter()):\n",
        "\n",
        "    \n",
        "    \n",
        "    \n",
        "    base_model = tf.keras.applications.resnet50.ResNet50(input_shape=(256,256,3),\n",
        "                                                   include_top=False, \n",
        "                                                   weights='imagenet',input_tensor=model_input) \n",
        "    \n",
        "\n",
        "    base_model.trainable = False\n",
        "   \n",
        "    data_augmentation = data_augmenter()\n",
        "   \n",
        "    x = data_augmentation(model_input)\n",
        "   \n",
        "    x = tf.keras.applications.resnet50.preprocess_input(x) \n",
        "    \n",
        "   \n",
        "    x = base_model(x, training=False) \n",
        "    \n",
        "   \n",
        "   \n",
        "    x = tf.keras.layers.GlobalAveragePooling2D()(x) \n",
        "   \n",
        "    x = tf.keras.layers.Dropout(0.2)(x)\n",
        "        \n",
        "   \n",
        "    x = tf.keras.layers.Dense(50)(x)\n",
        "    \n",
        "  \n",
        "    \n",
        "    model = Model(model_input, x, name='model')\n",
        "    \n",
        "    return model"
      ]
    },
    {
      "cell_type": "code",
      "execution_count": null,
      "metadata": {
        "colab": {
          "base_uri": "https://localhost:8080/"
        },
        "id": "AwCzQlY2vqEm",
        "outputId": "4ad7f02f-33d5-4ee9-a32d-295ae738b58e"
      },
      "outputs": [
        {
          "output_type": "stream",
          "name": "stdout",
          "text": [
            "(256, 256, 3)\n",
            "KerasTensor(type_spec=TensorSpec(shape=(None, 256, 256, 3), dtype=tf.float32, name='input_1'), name='input_1', description=\"created by layer 'input_1'\")\n"
          ]
        }
      ],
      "source": [
        "input_shape = (256,256,3)\n",
        "print(input_shape)\n",
        "model_input = Input(shape=input_shape)\n",
        "print(model_input)"
      ]
    },
    {
      "cell_type": "code",
      "execution_count": null,
      "metadata": {
        "id": "3Ic08oRjvR9V",
        "colab": {
          "base_uri": "https://localhost:8080/"
        },
        "outputId": "5d0a8639-7743-4a71-e212-f512c18bc694"
      },
      "outputs": [
        {
          "output_type": "stream",
          "name": "stdout",
          "text": [
            "Downloading data from https://storage.googleapis.com/tensorflow/keras-applications/resnet/resnet50_weights_tf_dim_ordering_tf_kernels_notop.h5\n",
            "94773248/94765736 [==============================] - 1s 0us/step\n",
            "94781440/94765736 [==============================] - 1s 0us/step\n",
            "<keras.engine.input_layer.InputLayer object at 0x7fd5301e64d0>\n",
            "<keras.engine.sequential.Sequential object at 0x7fd539d9cad0>\n",
            "<keras.layers.core.tf_op_layer.SlicingOpLambda object at 0x7fd539d0d810>\n",
            "<keras.layers.core.tf_op_layer.TFOpLambda object at 0x7fd539b72190>\n",
            "<keras.engine.functional.Functional object at 0x7fd539d98210>\n",
            "<keras.layers.pooling.GlobalAveragePooling2D object at 0x7fd539d7f6d0>\n",
            "<keras.layers.core.dropout.Dropout object at 0x7fd539d95cd0>\n",
            "<keras.layers.core.dense.Dense object at 0x7fd539bb0d50>\n"
          ]
        }
      ],
      "source": [
        "model = leaf_model(model_input, data_augmenter())\n",
        "\n",
        "for layer in model.layers:\n",
        "  print(layer)"
      ]
    },
    {
      "cell_type": "code",
      "execution_count": null,
      "metadata": {
        "id": "YZlEZf5_vi5q"
      },
      "outputs": [],
      "source": [
        "\n",
        "model.compile(optimizer='adam',loss = tf.keras.losses.SparseCategoricalCrossentropy(from_logits=True), metrics=['accuracy'])"
      ]
    },
    {
      "cell_type": "markdown",
      "source": [
        "Training Resnet with last layer as a Softmax layer"
      ],
      "metadata": {
        "id": "pYI-TIS51lL7"
      }
    },
    {
      "cell_type": "code",
      "execution_count": null,
      "metadata": {
        "colab": {
          "base_uri": "https://localhost:8080/"
        },
        "id": "FvthvOzec-H8",
        "outputId": "622410b2-ae99-4582-ebcd-286c77ba97b4"
      },
      "outputs": [
        {
          "output_type": "stream",
          "name": "stdout",
          "text": [
            "Epoch 1/10\n",
            "1358/1358 [==============================] - 272s 190ms/step - loss: 0.3582 - accuracy: 0.9048 - val_loss: 0.1588 - val_accuracy: 0.9511\n",
            "Epoch 2/10\n",
            "1358/1358 [==============================] - 257s 189ms/step - loss: 0.1251 - accuracy: 0.9621 - val_loss: 0.1075 - val_accuracy: 0.9648\n",
            "Epoch 3/10\n",
            "1358/1358 [==============================] - 256s 189ms/step - loss: 0.1014 - accuracy: 0.9678 - val_loss: 0.1001 - val_accuracy: 0.9672\n",
            "Epoch 4/10\n",
            "1358/1358 [==============================] - 257s 189ms/step - loss: 0.0906 - accuracy: 0.9703 - val_loss: 0.1132 - val_accuracy: 0.9610\n",
            "Epoch 5/10\n",
            "1358/1358 [==============================] - 257s 189ms/step - loss: 0.0812 - accuracy: 0.9741 - val_loss: 0.1002 - val_accuracy: 0.9696\n",
            "Epoch 6/10\n",
            "1358/1358 [==============================] - 256s 189ms/step - loss: 0.0788 - accuracy: 0.9739 - val_loss: 0.0909 - val_accuracy: 0.9718\n",
            "Epoch 7/10\n",
            "1358/1358 [==============================] - 256s 188ms/step - loss: 0.0719 - accuracy: 0.9752 - val_loss: 0.0795 - val_accuracy: 0.9752\n",
            "Epoch 8/10\n",
            "1358/1358 [==============================] - 256s 188ms/step - loss: 0.0721 - accuracy: 0.9764 - val_loss: 0.1171 - val_accuracy: 0.9639\n",
            "Epoch 9/10\n",
            "1358/1358 [==============================] - 256s 188ms/step - loss: 0.0692 - accuracy: 0.9766 - val_loss: 0.0824 - val_accuracy: 0.9736\n",
            "Epoch 10/10\n",
            "1358/1358 [==============================] - 256s 188ms/step - loss: 0.0622 - accuracy: 0.9790 - val_loss: 0.1027 - val_accuracy: 0.9694\n"
          ]
        }
      ],
      "source": [
        "history = model.fit(train_dataset,validation_data=validation_dataset,epochs=10)"
      ]
    },
    {
      "cell_type": "code",
      "source": [
        "del(train_dataset)\n",
        "del(validation_dataset)"
      ],
      "metadata": {
        "id": "VmdhCmDAFpeX"
      },
      "execution_count": null,
      "outputs": []
    },
    {
      "cell_type": "markdown",
      "source": [
        "Result of Transfer Training with Resnet50\n"
      ],
      "metadata": {
        "id": "bEOfH0Rntj5T"
      }
    },
    {
      "cell_type": "code",
      "execution_count": null,
      "metadata": {
        "colab": {
          "base_uri": "https://localhost:8080/",
          "height": 513
        },
        "id": "T6OisrWSv5sd",
        "outputId": "97a0c1ff-925f-4723-8855-0404645e896e"
      },
      "outputs": [
        {
          "output_type": "display_data",
          "data": {
            "text/plain": [
              "<Figure size 576x576 with 2 Axes>"
            ],
            "image/png": "[encoded data removed]"
          },
          "metadata": {
            "needs_background": "light"
          }
        }
      ],
      "source": [
        "acc = [0.] + history.history['accuracy']\n",
        "val_acc = [0.] + history.history['val_accuracy']\n",
        "\n",
        "loss = history.history['loss']\n",
        "val_loss = history.history['val_loss']\n",
        "\n",
        "plt.figure(figsize=(8, 8))\n",
        "plt.subplot(2, 1, 1)\n",
        "plt.plot(acc, label='Training Accuracy')\n",
        "plt.plot(val_acc, label='Validation Accuracy')\n",
        "plt.legend(loc='lower right')\n",
        "plt.ylabel('Accuracy')\n",
        "plt.ylim([min(plt.ylim()),1])\n",
        "plt.title('Training and Validation Accuracy')\n",
        "\n",
        "plt.subplot(2, 1, 2)\n",
        "plt.plot(loss, label='Training Loss')\n",
        "plt.plot(val_loss, label='Validation Loss')\n",
        "plt.legend(loc='upper right')\n",
        "plt.ylabel('Cross Entropy')\n",
        "plt.ylim([0,1.0])\n",
        "plt.title('Training and Validation Loss')\n",
        "plt.xlabel('epoch')\n",
        "plt.show()"
      ]
    },
    {
      "cell_type": "code",
      "source": [
        "#For training \n",
        "\n",
        "model.save('model.h5')"
      ],
      "metadata": {
        "id": "Nld0RgbBeHnO"
      },
      "execution_count": null,
      "outputs": []
    },
    {
      "cell_type": "code",
      "source": [
        "#For training \n",
        "\n",
        "\n",
        "model = tf.keras.models.load_model('/content/model.h5')"
      ],
      "metadata": {
        "id": "_rwlxYOkgMkg"
      },
      "execution_count": null,
      "outputs": []
    },
    {
      "cell_type": "code",
      "source": [
        "model.summary()"
      ],
      "metadata": {
        "colab": {
          "base_uri": "https://localhost:8080/"
        },
        "id": "h599a_FzAYbb",
        "outputId": "870913f5-c98a-4906-e4f5-b2db805e5d14"
      },
      "execution_count": null,
      "outputs": [
        {
          "output_type": "stream",
          "name": "stdout",
          "text": [
            "Model: \"model\"\n",
            "_________________________________________________________________\n",
            " Layer (type)                Output Shape              Param #   \n",
            "=================================================================\n",
            " input_1 (InputLayer)        [(None, 256, 256, 3)]     0         \n",
            "                                                                 \n",
            " sequential_2 (Sequential)   (None, 256, 256, 3)       0         \n",
            "                                                                 \n",
            " tf.__operators__.getitem (S  (None, 256, 256, 3)      0         \n",
            " licingOpLambda)                                                 \n",
            "                                                                 \n",
            " tf.nn.bias_add (TFOpLambda)  (None, 256, 256, 3)      0         \n",
            "                                                                 \n",
            " resnet50 (Functional)       (None, 8, 8, 2048)        23587712  \n",
            "                                                                 \n",
            " global_average_pooling2d (G  (None, 2048)             0         \n",
            " lobalAveragePooling2D)                                          \n",
            "                                                                 \n",
            " dropout (Dropout)           (None, 2048)              0         \n",
            "                                                                 \n",
            " dense (Dense)               (None, 50)                102450    \n",
            "                                                                 \n",
            "=================================================================\n",
            "Total params: 23,690,162\n",
            "Trainable params: 102,450\n",
            "Non-trainable params: 23,587,712\n",
            "_________________________________________________________________\n"
          ]
        }
      ]
    },
    {
      "cell_type": "code",
      "source": [
        "pred = model.predict(x_test)"
      ],
      "metadata": {
        "id": "u_OwG6iN3j8I"
      },
      "execution_count": null,
      "outputs": []
    },
    {
      "cell_type": "code",
      "source": [
        "y_test.shape"
      ],
      "metadata": {
        "colab": {
          "base_uri": "https://localhost:8080/"
        },
        "id": "L6V-UVYt4QXA",
        "outputId": "c4bbc66e-38ce-471e-badd-6d90f84eb499"
      },
      "execution_count": null,
      "outputs": [
        {
          "output_type": "execute_result",
          "data": {
            "text/plain": [
              "(1984, 40)"
            ]
          },
          "metadata": {},
          "execution_count": 13
        }
      ]
    },
    {
      "cell_type": "code",
      "source": [
        "Pred=[]\n",
        "for i in range(pred.shape[0]):\n",
        "  temp=pred[i][0:]\n",
        "  temp = np.argmax(temp)\n",
        "  Pred.append(temp)\n",
        "Pred=np.asarray(Pred)\n",
        "Pred.shape"
      ],
      "metadata": {
        "colab": {
          "base_uri": "https://localhost:8080/"
        },
        "id": "QIROM7DC4rYQ",
        "outputId": "6fd377af-e0b8-480e-c031-cdb52842e593"
      },
      "execution_count": null,
      "outputs": [
        {
          "output_type": "execute_result",
          "data": {
            "text/plain": [
              "(1984,)"
            ]
          },
          "metadata": {},
          "execution_count": 14
        }
      ]
    },
    {
      "cell_type": "code",
      "source": [
        "Pred[0]"
      ],
      "metadata": {
        "colab": {
          "base_uri": "https://localhost:8080/"
        },
        "id": "RmXi6RX54NHA",
        "outputId": "7788ce2e-fd5f-4599-8088-b89d09a11221"
      },
      "execution_count": null,
      "outputs": [
        {
          "output_type": "execute_result",
          "data": {
            "text/plain": [
              "17"
            ]
          },
          "metadata": {},
          "execution_count": 15
        }
      ]
    },
    {
      "cell_type": "code",
      "source": [
        "from sklearn.metrics import f1_score"
      ],
      "metadata": {
        "id": "izopHUhp35QR"
      },
      "execution_count": null,
      "outputs": []
    },
    {
      "cell_type": "markdown",
      "source": [
        "Only Resnet F1 score"
      ],
      "metadata": {
        "id": "KThi6xZ_7kOQ"
      }
    },
    {
      "cell_type": "code",
      "source": [
        "f1_score(Y_test, Pred, average='micro')"
      ],
      "metadata": {
        "colab": {
          "base_uri": "https://localhost:8080/"
        },
        "id": "FrIi4xSD3y_a",
        "outputId": "04102f8f-76c2-474f-b1bb-4867c4bf4c6b"
      },
      "execution_count": null,
      "outputs": [
        {
          "output_type": "execute_result",
          "data": {
            "text/plain": [
              "0.8634072580645161"
            ]
          },
          "metadata": {},
          "execution_count": 17
        }
      ]
    },
    {
      "cell_type": "code",
      "source": [
        "del(pred)\n",
        "del(Pred)"
      ],
      "metadata": {
        "id": "H0FPe7ZuKTkU"
      },
      "execution_count": null,
      "outputs": []
    },
    {
      "cell_type": "markdown",
      "source": [
        "Making an intermediate layer model from resnet to use for feature selection "
      ],
      "metadata": {
        "id": "nYPt7rZJ17vX"
      }
    },
    {
      "cell_type": "code",
      "source": [
        "from keras.models import Model\n",
        "layer_name='global_average_pooling2d'\n",
        "intermediate_layer_model = Model(inputs=model.input,\n",
        "                                 outputs=model.get_layer(layer_name).output)\n",
        "\n",
        "intermediate_layer_model.summary()"
      ],
      "metadata": {
        "colab": {
          "base_uri": "https://localhost:8080/"
        },
        "id": "5QyqEY1uhCkt",
        "outputId": "50a6a950-103f-4040-bdae-064a771f9134"
      },
      "execution_count": null,
      "outputs": [
        {
          "output_type": "stream",
          "name": "stdout",
          "text": [
            "Model: \"model\"\n",
            "_________________________________________________________________\n",
            " Layer (type)                Output Shape              Param #   \n",
            "=================================================================\n",
            " input_1 (InputLayer)        [(None, 256, 256, 3)]     0         \n",
            "                                                                 \n",
            " sequential_2 (Sequential)   (None, 256, 256, 3)       0         \n",
            "                                                                 \n",
            " tf.__operators__.getitem (S  (None, 256, 256, 3)      0         \n",
            " licingOpLambda)                                                 \n",
            "                                                                 \n",
            " tf.nn.bias_add (TFOpLambda)  (None, 256, 256, 3)      0         \n",
            "                                                                 \n",
            " resnet50 (Functional)       (None, 8, 8, 2048)        23587712  \n",
            "                                                                 \n",
            " global_average_pooling2d (G  (None, 2048)             0         \n",
            " lobalAveragePooling2D)                                          \n",
            "                                                                 \n",
            "=================================================================\n",
            "Total params: 23,587,712\n",
            "Trainable params: 0\n",
            "Non-trainable params: 23,587,712\n",
            "_________________________________________________________________\n"
          ]
        }
      ]
    },
    {
      "cell_type": "code",
      "source": [
        "#Deleting base model for memory optimization\n",
        "\n",
        "del(model)"
      ],
      "metadata": {
        "id": "YfOM-ZInhmsk"
      },
      "execution_count": null,
      "outputs": []
    },
    {
      "cell_type": "code",
      "source": [
        "import pandas as pd"
      ],
      "metadata": {
        "id": "raoY2AhK2rOn"
      },
      "execution_count": null,
      "outputs": []
    },
    {
      "cell_type": "code",
      "execution_count": null,
      "metadata": {
        "id": "-up7Xda6wgQm"
      },
      "outputs": [],
      "source": [
        "\n",
        "intermediate_output = intermediate_layer_model.predict(x_test) \n",
        "intermediate_output = pd.DataFrame(data=intermediate_output)"
      ]
    },
    {
      "cell_type": "code",
      "source": [
        "intermediate_output.shape"
      ],
      "metadata": {
        "colab": {
          "base_uri": "https://localhost:8080/"
        },
        "id": "bdVxW5K3fIf3",
        "outputId": "3dc23128-8208-4db2-dfe2-7c78e2b4eb86"
      },
      "execution_count": null,
      "outputs": [
        {
          "output_type": "execute_result",
          "data": {
            "text/plain": [
              "(1984, 2048)"
            ]
          },
          "metadata": {},
          "execution_count": 23
        }
      ]
    },
    {
      "cell_type": "code",
      "source": [
        "\n",
        "intermediate_output_train = intermediate_layer_model.predict(x_train) \n",
        "intermediate_output_train = pd.DataFrame(data=intermediate_output_train)"
      ],
      "metadata": {
        "id": "M0R6d7BPgzA-"
      },
      "execution_count": null,
      "outputs": []
    },
    {
      "cell_type": "code",
      "source": [
        "#Reset GPU for memory optimization\n",
        "\n",
        "!pip install numba\n",
        "from numba import cuda\n",
        "device = cuda.get_current_device()\n",
        "device.reset()"
      ],
      "metadata": {
        "colab": {
          "base_uri": "https://localhost:8080/"
        },
        "id": "l0lqzsFJ6U_J",
        "outputId": "b5bd2623-7d5e-4d96-e2c9-d9ec2f2386d6"
      },
      "execution_count": null,
      "outputs": [
        {
          "output_type": "stream",
          "name": "stdout",
          "text": [
            "Looking in indexes: https://pypi.org/simple, https://us-python.pkg.dev/colab-wheels/public/simple/\n",
            "Requirement already satisfied: numba in /usr/local/lib/python3.7/dist-packages (0.56.2)\n",
            "Requirement already satisfied: numpy<1.24,>=1.18 in /usr/local/lib/python3.7/dist-packages (from numba) (1.21.6)\n",
            "Requirement already satisfied: llvmlite<0.40,>=0.39.0dev0 in /usr/local/lib/python3.7/dist-packages (from numba) (0.39.1)\n",
            "Requirement already satisfied: importlib-metadata in /usr/local/lib/python3.7/dist-packages (from numba) (4.12.0)\n",
            "Requirement already satisfied: setuptools<60 in /usr/local/lib/python3.7/dist-packages (from numba) (57.4.0)\n",
            "Requirement already satisfied: typing-extensions>=3.6.4 in /usr/local/lib/python3.7/dist-packages (from importlib-metadata->numba) (4.1.1)\n",
            "Requirement already satisfied: zipp>=0.5 in /usr/local/lib/python3.7/dist-packages (from importlib-metadata->numba) (3.8.1)\n"
          ]
        }
      ]
    },
    {
      "cell_type": "code",
      "source": [
        "intermediate_output_train.shape"
      ],
      "metadata": {
        "colab": {
          "base_uri": "https://localhost:8080/"
        },
        "id": "I43F0sxkNG-8",
        "outputId": "577e93fa-b702-4a8c-b4a0-5f29b7375f57"
      },
      "execution_count": null,
      "outputs": [
        {
          "output_type": "execute_result",
          "data": {
            "text/plain": [
              "(2368, 2048)"
            ]
          },
          "metadata": {},
          "execution_count": 26
        }
      ]
    },
    {
      "cell_type": "code",
      "source": [],
      "metadata": {
        "id": "7W8QxCn81leP"
      },
      "execution_count": null,
      "outputs": []
    },
    {
      "cell_type": "code",
      "source": [
        "del(intermediate_layer_model)"
      ],
      "metadata": {
        "id": "stf1UXQLj5Ye"
      },
      "execution_count": null,
      "outputs": []
    },
    {
      "cell_type": "markdown",
      "source": [
        "Starting to make hybrid models using XGBoost"
      ],
      "metadata": {
        "id": "tRBPAVxc3Xvx"
      }
    },
    {
      "cell_type": "code",
      "source": [
        "from xgboost import XGBClassifier"
      ],
      "metadata": {
        "id": "i5hrRgyuoLrM"
      },
      "execution_count": null,
      "outputs": []
    },
    {
      "cell_type": "markdown",
      "source": [
        "Results of Conv XGBoost hybrid model"
      ],
      "metadata": {
        "id": "HrMUZX4Epluo"
      }
    },
    {
      "cell_type": "code",
      "source": [
        "\n",
        "xgb = XGBClassifier(objective='multi:softprob', \n",
        "                      num_class= 40)"
      ],
      "metadata": {
        "id": "v4hcaiVtryRX"
      },
      "execution_count": null,
      "outputs": []
    },
    {
      "cell_type": "code",
      "source": [
        "xgb.fit(intermediate_output_train,Y_train)"
      ],
      "metadata": {
        "id": "c4-yGZABxWjP",
        "colab": {
          "base_uri": "https://localhost:8080/"
        },
        "outputId": "cd75b8eb-7f8d-4608-cc5f-c81fb36f26dc"
      },
      "execution_count": null,
      "outputs": [
        {
          "output_type": "execute_result",
          "data": {
            "text/plain": [
              "XGBClassifier(num_class=40, objective='multi:softprob')"
            ]
          },
          "metadata": {},
          "execution_count": 31
        }
      ]
    },
    {
      "cell_type": "markdown",
      "source": [
        "F1 Score of Hybrid classifier"
      ],
      "metadata": {
        "id": "SiHINMYSIG62"
      }
    },
    {
      "cell_type": "code",
      "source": [
        "pred2 = xgb.predict(intermediate_output)"
      ],
      "metadata": {
        "id": "hP1_ckIUEONO"
      },
      "execution_count": null,
      "outputs": []
    },
    {
      "cell_type": "code",
      "source": [
        "pred2[0]"
      ],
      "metadata": {
        "id": "k5WtVY4pEY3v",
        "colab": {
          "base_uri": "https://localhost:8080/"
        },
        "outputId": "3abc0d52-de81-46a2-a16d-6221089c1ced"
      },
      "execution_count": null,
      "outputs": [
        {
          "output_type": "execute_result",
          "data": {
            "text/plain": [
              "17"
            ]
          },
          "metadata": {},
          "execution_count": 33
        }
      ]
    },
    {
      "cell_type": "code",
      "source": [
        "f1_score(Y_test, pred2, average='micro')"
      ],
      "metadata": {
        "id": "BNpU4EP_xbQP",
        "colab": {
          "base_uri": "https://localhost:8080/"
        },
        "outputId": "fb49d89f-dc71-4ee8-e2d5-39851f5b819a"
      },
      "execution_count": null,
      "outputs": [
        {
          "output_type": "execute_result",
          "data": {
            "text/plain": [
              "0.8659274193548387"
            ]
          },
          "metadata": {},
          "execution_count": 34
        }
      ]
    },
    {
      "cell_type": "code",
      "source": [
        "xgb.score(intermediate_output,Y_test)"
      ],
      "metadata": {
        "id": "4QcynBpKGHTQ",
        "colab": {
          "base_uri": "https://localhost:8080/"
        },
        "outputId": "aa7a2605-fd11-493b-e5d3-dd1994159eae"
      },
      "execution_count": null,
      "outputs": [
        {
          "output_type": "execute_result",
          "data": {
            "text/plain": [
              "0.8659274193548387"
            ]
          },
          "metadata": {},
          "execution_count": 35
        }
      ]
    }
  ],
  "metadata": {
    "accelerator": "GPU",
    "colab": {
      "provenance": [],
      "collapsed_sections": []
    },
    "kernelspec": {
      "display_name": "Python 3",
      "name": "python3"
    },
    "language_info": {
      "name": "python"
    }
  },
  "nbformat": 4,
  "nbformat_minor": 0
}